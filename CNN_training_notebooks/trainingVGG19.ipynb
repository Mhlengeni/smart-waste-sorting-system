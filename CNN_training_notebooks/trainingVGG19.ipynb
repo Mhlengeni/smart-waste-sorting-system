{
 "cells": [
  {
   "cell_type": "markdown",
   "id": "c78bbe9a-fcf1-436c-99a2-b5b5cf7e0b99",
   "metadata": {},
   "source": [
    "#  Model Training: Waste Classification using Deep Learning (VGG19)\n",
    "\n",
    "###  Introduction\n",
    "\n",
    "This notebook focuses on training a deep learning model for **automated waste classification** as part of a broader initiative to design a smart and sustainable waste sorting system.\n",
    "\n",
    "Using a dataset of beverage container images categorized into **Glass**, **Metal**, **Paper**, and **Plastic**, we train a neural network to accurately classify waste materials based on visual features. This model plays a key role in enabling intelligent sorting within a real-world recycling pipeline.\n",
    "\n",
    "###  Tools & Frameworks\n",
    "- **TensorFlow** and **Keras** for model development and training  \n",
    "- **Image preprocessing** and **data augmentation** to improve generalization  \n",
    "- **Categorical classification** with performance monitoring using metrics like accuracy and loss  \n",
    "\n",
    "###  Objectives\n",
    "- Load and preprocess image data from a labeled dataset  \n",
    "- Define and train a convolutional neural network (CNN)  \n",
    "- Evaluate model performance on unseen data  \n",
    "- Save the trained model for deployment in an automated waste sorting system  \n",
    "\n",
    "This training process lays the foundation for building an intelligent, automated sorting solution that contributes to reducing landfill waste and advancing environmental sustainability.\n"
   ]
  },
  {
   "cell_type": "markdown",
   "id": "2e5a1fff-eb1b-4de5-85a3-9a9af782ea4e",
   "metadata": {},
   "source": [
    "###  Importing Libraries\n",
    "\n",
    "In this step, we import all the necessary Python libraries required for data loading, preprocessing, model training, evaluation, and visualization.\n",
    "\n",
    "- **os, numpy**: Core libraries for file handling and numerical operations.\n",
    "- **matplotlib, seaborn**: For visualizing training performance and results like accuracy, loss curves, and confusion matrices.\n",
    "- **TensorFlow & Keras**: For building, training, and evaluating deep learning models.\n",
    "- **ImageDataGenerator**: To apply real-time data augmentation during training.\n",
    "- **scikit-learn**: To generate classification reports and confusion matrices for performance analysis.\n",
    "\n",
    "These libraries provide the essential tools to develop a robust image classification pipeline for the smart waste sorting system.\n"
   ]
  },
  {
   "cell_type": "code",
   "execution_count": 1,
   "id": "f247f64b-57e2-4a68-804f-5d34ad58d2b8",
   "metadata": {},
   "outputs": [
    {
     "name": "stderr",
     "output_type": "stream",
     "text": [
      "2025-07-23 08:28:15.371697: E external/local_xla/xla/stream_executor/cuda/cuda_fft.cc:467] Unable to register cuFFT factory: Attempting to register factory for plugin cuFFT when one has already been registered\n",
      "WARNING: All log messages before absl::InitializeLog() is called are written to STDERR\n",
      "E0000 00:00:1753252095.479545     540 cuda_dnn.cc:8579] Unable to register cuDNN factory: Attempting to register factory for plugin cuDNN when one has already been registered\n",
      "E0000 00:00:1753252095.510354     540 cuda_blas.cc:1407] Unable to register cuBLAS factory: Attempting to register factory for plugin cuBLAS when one has already been registered\n",
      "W0000 00:00:1753252095.741130     540 computation_placer.cc:177] computation placer already registered. Please check linkage and avoid linking the same target more than once.\n",
      "W0000 00:00:1753252095.741163     540 computation_placer.cc:177] computation placer already registered. Please check linkage and avoid linking the same target more than once.\n",
      "W0000 00:00:1753252095.741165     540 computation_placer.cc:177] computation placer already registered. Please check linkage and avoid linking the same target more than once.\n",
      "W0000 00:00:1753252095.741167     540 computation_placer.cc:177] computation placer already registered. Please check linkage and avoid linking the same target more than once.\n",
      "2025-07-23 08:28:15.767676: I tensorflow/core/platform/cpu_feature_guard.cc:210] This TensorFlow binary is optimized to use available CPU instructions in performance-critical operations.\n",
      "To enable the following instructions: AVX2 FMA, in other operations, rebuild TensorFlow with the appropriate compiler flags.\n"
     ]
    }
   ],
   "source": [
    "# Import Core Libraries\n",
    "import warnings\n",
    "import os\n",
    "import tensorflow as tf\n",
    "import time\n",
    "import numpy as np\n",
    "import matplotlib.pyplot as plt\n",
    "import seaborn as sns\n",
    "import keras.layers as tkl\n",
    "\n",
    "# TensorFlow & Keras\n",
    "from tensorflow.keras import layers, models, applications\n",
    "from tensorflow.keras.preprocessing import image_dataset_from_directory\n",
    "from tensorflow.keras.callbacks import EarlyStopping, ModelCheckpoint\n",
    "from keras.applications.vgg19 import VGG19, preprocess_input\n",
    "\n",
    "# Data Augmentation\n",
    "from tensorflow.keras.preprocessing.image import ImageDataGenerator\n",
    "\n",
    "# Performance & Visualization\n",
    "from sklearn.metrics import classification_report, confusion_matrix, ConfusionMatrixDisplay\n",
    "from keras.callbacks import ModelCheckpoint\n",
    "from keras.callbacks import CSVLogger\n",
    "\n",
    "warnings.filterwarnings('ignore')\n",
    "os.environ['TF_CPP_MIN_LOG_LEVEL'] = '3'"
   ]
  },
  {
   "cell_type": "markdown",
   "id": "bb105e51-fa3a-4aeb-ba5f-4aa956ed9d55",
   "metadata": {},
   "source": [
    "### Checking TensorFlow Version and GPU Availability\n",
    "\n",
    "This cell performs two important diagnostic checks for TensorFlow environment:\n",
    "\n",
    "1. **`tf.config.list_physical_devices('GPU')`**  \n",
    "   - This line lists all GPU devices available to TensorFlow.\n",
    "   - It helps confirm whether training and inference will benefit from hardware acceleration.\n",
    "   - If no GPU is found, it returns an empty list (`[]`), meaning TensorFlow will use the CPU instead.\n",
    "\n",
    "2. **`tf.__version__`**  \n",
    "   - This line prints the version of TensorFlow currently in use.\n",
    "\n"
   ]
  },
  {
   "cell_type": "code",
   "execution_count": 2,
   "id": "92431461-62bb-457b-a9ba-40ac25dd467f",
   "metadata": {},
   "outputs": [
    {
     "name": "stdout",
     "output_type": "stream",
     "text": [
      "[PhysicalDevice(name='/physical_device:GPU:0', device_type='GPU')]\n",
      "2.19.0\n"
     ]
    }
   ],
   "source": [
    "print(tf.config.list_physical_devices('GPU'))\n",
    "print(tf.__version__)"
   ]
  },
  {
   "cell_type": "markdown",
   "id": "751ad63d-a5ba-44be-b141-22416cc6ecef",
   "metadata": {},
   "source": [
    "### Loading Image Dataset from Directory\n",
    "\n",
    "This cell loads the waste classification dataset from a local directory and prepares it for training using TensorFlow's utility function.\n",
    "\n",
    "1. **`dataset_path`**  \n",
    "   - Specifies the location of the dataset on my local machine.\n",
    "   - The dataset is organized in subdirectories, where each subdirectory name represents a class label (e.g., `/plastic`, `/metal`, `/glass`, `/paper`).\n",
    "\n",
    "2. **`tf.keras.preprocessing.image_dataset_from_directory(...)`**  \n",
    "   - Loads images from the specified directory.\n",
    "   - Automatically labels images based on their parent folder names.\n",
    "   - Resizes all images to `(224, 224)` — a common input size for models like VGG19, ResNet50, and InceptionV3.\n",
    "   - Groups images into batches of 8.\n",
    "   - Shuffles the dataset to ensure randomization during training.\n",
    "\n",
    "3. **`train_ds.class_names`**  \n",
    "   - Extracts the class labels (folder names) discovered during dataset loading.\n",
    "   - These are printed for verification and will be used later in model evaluation and visualization.\n",
    "\n",
    "> This is a critical preprocessing step for supervised image classification tasks, as it structures and labels the image data for efficient training.\n"
   ]
  },
  {
   "cell_type": "code",
   "execution_count": 3,
   "id": "e9d42f29-0ff0-4eed-9ecc-e5dac4c368dc",
   "metadata": {},
   "outputs": [
    {
     "name": "stdout",
     "output_type": "stream",
     "text": [
      "Found 8147 files belonging to 4 classes.\n"
     ]
    },
    {
     "name": "stderr",
     "output_type": "stream",
     "text": [
      "I0000 00:00:1753252106.106537     540 gpu_device.cc:2019] Created device /job:localhost/replica:0/task:0/device:GPU:0 with 1768 MB memory:  -> device: 0, name: NVIDIA GeForce RTX 3050 Laptop GPU, pci bus id: 0000:01:00.0, compute capability: 8.6\n"
     ]
    },
    {
     "name": "stdout",
     "output_type": "stream",
     "text": [
      "Classes: ['Glass', 'Metal', 'Paper', 'Plastic']\n"
     ]
    }
   ],
   "source": [
    "dataset_path = \"/mnt/c/Users/mhlen/OneDrive/Documentos/Information Engineering Design II/Dataset/mhlengeni-waste-dataset-resized\"\n",
    "\n",
    "train_ds = tf.keras.preprocessing.image_dataset_from_directory(\n",
    "    dataset_path,\n",
    "    image_size=(224, 224),\n",
    "    batch_size=8,\n",
    "    shuffle=True\n",
    ")\n",
    "\n",
    "class_names = train_ds.class_names\n",
    "print(\"Classes:\", class_names)"
   ]
  },
  {
   "cell_type": "markdown",
   "id": "7b929e62-e59e-4969-8b95-38b7bb166de0",
   "metadata": {},
   "source": [
    "### Creating the Training Dataset with Validation Split\n",
    "\n",
    "This cell uses TensorFlow's `image_dataset_from_directory` utility to load and preprocess the **training subset** of an image dataset from a directory.\n",
    "\n",
    "#### Key Parameters Explained:\n",
    "\n",
    "- **`dataset_path`**  \n",
    "  The root directory of dataset, which must be structured with one subfolder per class.\n",
    "\n",
    "- **`validation_split=0.2`**  \n",
    "  Reserves **20% of the data** for validation purposes. The remaining 80% will be used for training. This makes it easy to split data without creating separate folders.\n",
    "\n",
    "- **`subset=\"training\"`**  \n",
    "  Specifies that this call is for loading the **training split** of the dataset (the other subset will be loaded separately for validation).\n",
    "\n",
    "- **`label_mode='int'`**  \n",
    "  Labels will be returned as **integer-encoded** values (e.g., 0, 1, 2, 3). This is compatible with sparse categorical loss functions.\n",
    "\n",
    "- **`seed=1227`**  \n",
    "  A fixed random seed to ensure that the dataset split is **reproducible** every time the code is run.\n",
    "\n",
    "- **`image_size=(224, 224)`**  \n",
    "  All images are resized to 224x224 pixels — the required input shape for most pretrained CNNs like VGG19, ResNet50 or InceptionV3.\n",
    "\n",
    "- **`batch_size=8`**  \n",
    "  The dataset is batched into groups of 8 images for efficient training.\n",
    "\n",
    "---\n",
    "\n",
    "This setup ensures a properly randomized and preprocessed **training dataset**, which will be used to train the deep learning model. \n"
   ]
  },
  {
   "cell_type": "code",
   "execution_count": 4,
   "id": "c120931d-8c3a-45c9-bb9d-4a7e5d2db092",
   "metadata": {},
   "outputs": [
    {
     "name": "stdout",
     "output_type": "stream",
     "text": [
      "Found 8147 files belonging to 4 classes.\n",
      "Using 6518 files for training.\n"
     ]
    }
   ],
   "source": [
    "train_ds = tf.keras.utils.image_dataset_from_directory(\n",
    "  dataset_path,\n",
    "  validation_split=0.2,\n",
    "  label_mode='int',\n",
    "  subset=\"training\",\n",
    "  seed = 1227,\n",
    "  image_size=(224, 224),\n",
    "  batch_size=8)"
   ]
  },
  {
   "cell_type": "markdown",
   "id": "6c1b3f64-de73-4b84-8627-61bf71daff73",
   "metadata": {},
   "source": [
    "### Creating the Validation Dataset from Directory\n",
    "\n",
    "This cell loads the **validation split** of the image dataset using TensorFlow’s `image_dataset_from_directory` utility, matching the training dataset’s configuration.\n",
    "\n",
    "---\n",
    "\n",
    "This dataset will be used during model training to **evaluate performance** on unseen data and prevent overfitting. It works hand-in-hand with the training dataset split defined previously."
   ]
  },
  {
   "cell_type": "code",
   "execution_count": 5,
   "id": "791d7327-fb90-487c-a30a-d3709a4ee2d4",
   "metadata": {},
   "outputs": [
    {
     "name": "stdout",
     "output_type": "stream",
     "text": [
      "Found 8147 files belonging to 4 classes.\n",
      "Using 1629 files for validation.\n"
     ]
    }
   ],
   "source": [
    "valid_ds = tf.keras.utils.image_dataset_from_directory(\n",
    "  dataset_path,\n",
    "  validation_split=0.2,\n",
    "  label_mode='int',\n",
    "  subset=\"validation\",\n",
    "  seed = 1227,\n",
    "  image_size=(224, 224),\n",
    "  batch_size=8)"
   ]
  },
  {
   "cell_type": "code",
   "execution_count": 6,
   "id": "9d44ed11-c356-404c-a77a-0dedf13fdc93",
   "metadata": {},
   "outputs": [
    {
     "name": "stdout",
     "output_type": "stream",
     "text": [
      "['Glass', 'Metal', 'Paper', 'Plastic']\n",
      "4\n"
     ]
    }
   ],
   "source": [
    "class_names = train_ds.class_names\n",
    "print(class_names)\n",
    "num_classes = len(class_names)\n",
    "print(num_classes)"
   ]
  },
  {
   "cell_type": "markdown",
   "id": "186ae155-5066-4dce-89e9-94642534f494",
   "metadata": {},
   "source": [
    "### Splitting Validation Dataset into Validation and Test Sets\n",
    "\n",
    "This cell divides the original **validation dataset** into two subsets:\n",
    "- A **new validation set** (80% of the original validation data)\n",
    "- A **test set** (20% of the original validation data)\n"
   ]
  },
  {
   "cell_type": "code",
   "execution_count": 7,
   "id": "fde5368c-594b-425f-bfd7-2ecd3892373e",
   "metadata": {},
   "outputs": [
    {
     "name": "stdout",
     "output_type": "stream",
     "text": [
      "Number of validation batches: 164\n",
      "Number of test batches: 40\n"
     ]
    }
   ],
   "source": [
    "val_batches = tf.data.experimental.cardinality(valid_ds)\n",
    "test_ds = valid_ds.take(val_batches // 5)\n",
    "valid_ds = valid_ds.skip(val_batches // 5)\n",
    "\n",
    "# Confirm the number of batches in each subset after the split.\n",
    "print('Number of validation batches: %d' % tf.data.experimental.cardinality(valid_ds))\n",
    "print('Number of test batches: %d' % tf.data.experimental.cardinality(test_ds))"
   ]
  },
  {
   "cell_type": "markdown",
   "id": "75e03c6f-7f6e-4711-8e32-228a08bdbc4c",
   "metadata": {},
   "source": [
    "### Optimizing Data Pipeline with Prefetching\n",
    "\n",
    "This section improves the performance of the data input pipeline using **TensorFlow’s prefetching mechanism**, which overlaps the preprocessing and model execution of data."
   ]
  },
  {
   "cell_type": "code",
   "execution_count": 8,
   "id": "b1bd37d4-a81a-491d-92e4-1095c4cdccc4",
   "metadata": {},
   "outputs": [],
   "source": [
    "AUTOTUNE = tf.data.AUTOTUNE\n",
    "\n",
    "train_ds = train_ds.prefetch(buffer_size=AUTOTUNE)\n",
    "valid_ds = valid_ds.prefetch(buffer_size=AUTOTUNE)\n",
    "test_ds = test_ds.prefetch(buffer_size=AUTOTUNE)"
   ]
  },
  {
   "cell_type": "markdown",
   "id": "8ec4f6e5-0892-486a-9510-05f8bb9acaeb",
   "metadata": {},
   "source": [
    "### Data Augmentation for Enhanced Training\n",
    "\n",
    "This cell defines a **data augmentation pipeline** to artificially increase the diversity of the training dataset by applying random transformations to the input images. This helps improve the model's ability to generalize to new, unseen data.\n",
    "\n",
    "---\n",
    "\n",
    "#### Why Use Data Augmentation?\n",
    "\n",
    "Data augmentation:\n",
    "- Prevents **overfitting** by introducing slight variations of training images.\n",
    "- Improves **model robustness** by simulating real-world variability.\n",
    "- Helps when the dataset size is limited or class imbalance is present.\n"
   ]
  },
  {
   "cell_type": "code",
   "execution_count": 9,
   "id": "5f9020d0-896d-41b1-ad90-8d860370b27d",
   "metadata": {},
   "outputs": [],
   "source": [
    "# Use data augmentation to add more data for training\n",
    "data_augmentation = tf.keras.Sequential([\n",
    "  tf.keras.layers.RandomFlip('horizontal'),\n",
    "  tf.keras.layers.RandomRotation(0.2),\n",
    "  tf.keras.layers.RandomZoom(0.2)\n",
    "])"
   ]
  },
  {
   "cell_type": "markdown",
   "id": "25ae150a-eebd-474c-9eeb-7ad872fc74ff",
   "metadata": {},
   "source": [
    "### Building the Transfer Learning Model with VGG19\n",
    "\n",
    "This cell constructs a deep learning model for image classification using **transfer learning** with the **VGG19** architecture as the feature extractor. The model includes additional layers to fine-tune predictions for the custom waste classification task.\n"
   ]
  },
  {
   "cell_type": "code",
   "execution_count": 10,
   "id": "de901a4e-bb49-40ba-8039-2e6484bcae02",
   "metadata": {},
   "outputs": [],
   "source": [
    "base_model = VGG19(weights='imagenet', include_top=False, input_shape=(224, 224, 3))\n",
    "base_model.trainable = False\n",
    "inputs = tf.keras.Input(shape=(224, 224, 3))\n",
    "x = data_augmentation(inputs)\n",
    "x = base_model(x, training=False)\n",
    "x = tf.keras.layers.GlobalAveragePooling2D()(x)\n",
    "x = tf.keras.layers.BatchNormalization()(x)\n",
    "x = tf.keras.layers.Dense(1024, activation='relu', kernel_regularizer=tf.keras.regularizers.l2(0.01))(x)\n",
    "x = tf.keras.layers.Dropout(0.5)(x)\n",
    "x = tf.keras.layers.Dense(512, activation='relu', kernel_regularizer=tf.keras.regularizers.l2(0.01))(x)\n",
    "x = tf.keras.layers.Dropout(0.5)(x)\n",
    "outputs = tf.keras.layers.Dense(num_classes, activation='softmax')(x)"
   ]
  },
  {
   "cell_type": "markdown",
   "id": "19a7477a-009e-4eec-b9a8-0028b95770c1",
   "metadata": {},
   "source": [
    "### Compiling the Transfer Learning Model\n",
    "\n",
    "This cell finalizes the model architecture, sets the training configuration, and displays the summary of the pre-trained VGG19 base.\n",
    "\n",
    "---\n",
    "\n",
    "This cell prepares the model for training by specifying how it should learn (optimizer + loss), what it should report (metrics), and confirms the structure of the feature extractor used. It sets the foundation for the training phase that follows."
   ]
  },
  {
   "cell_type": "code",
   "execution_count": 11,
   "id": "04ac4cdd-baf1-45f3-b3c3-1b8cc0652c0f",
   "metadata": {},
   "outputs": [
    {
     "data": {
      "text/html": [
       "<pre style=\"white-space:pre;overflow-x:auto;line-height:normal;font-family:Menlo,'DejaVu Sans Mono',consolas,'Courier New',monospace\"><span style=\"font-weight: bold\">Model: \"vgg19\"</span>\n",
       "</pre>\n"
      ],
      "text/plain": [
       "\u001b[1mModel: \"vgg19\"\u001b[0m\n"
      ]
     },
     "metadata": {},
     "output_type": "display_data"
    },
    {
     "data": {
      "text/html": [
       "<pre style=\"white-space:pre;overflow-x:auto;line-height:normal;font-family:Menlo,'DejaVu Sans Mono',consolas,'Courier New',monospace\">┏━━━━━━━━━━━━━━━━━━━━━━━━━━━━━━━━━┳━━━━━━━━━━━━━━━━━━━━━━━━┳━━━━━━━━━━━━━━━┓\n",
       "┃<span style=\"font-weight: bold\"> Layer (type)                    </span>┃<span style=\"font-weight: bold\"> Output Shape           </span>┃<span style=\"font-weight: bold\">       Param # </span>┃\n",
       "┡━━━━━━━━━━━━━━━━━━━━━━━━━━━━━━━━━╇━━━━━━━━━━━━━━━━━━━━━━━━╇━━━━━━━━━━━━━━━┩\n",
       "│ input_layer (<span style=\"color: #0087ff; text-decoration-color: #0087ff\">InputLayer</span>)        │ (<span style=\"color: #00d7ff; text-decoration-color: #00d7ff\">None</span>, <span style=\"color: #00af00; text-decoration-color: #00af00\">224</span>, <span style=\"color: #00af00; text-decoration-color: #00af00\">224</span>, <span style=\"color: #00af00; text-decoration-color: #00af00\">3</span>)    │             <span style=\"color: #00af00; text-decoration-color: #00af00\">0</span> │\n",
       "├─────────────────────────────────┼────────────────────────┼───────────────┤\n",
       "│ block1_conv1 (<span style=\"color: #0087ff; text-decoration-color: #0087ff\">Conv2D</span>)           │ (<span style=\"color: #00d7ff; text-decoration-color: #00d7ff\">None</span>, <span style=\"color: #00af00; text-decoration-color: #00af00\">224</span>, <span style=\"color: #00af00; text-decoration-color: #00af00\">224</span>, <span style=\"color: #00af00; text-decoration-color: #00af00\">64</span>)   │         <span style=\"color: #00af00; text-decoration-color: #00af00\">1,792</span> │\n",
       "├─────────────────────────────────┼────────────────────────┼───────────────┤\n",
       "│ block1_conv2 (<span style=\"color: #0087ff; text-decoration-color: #0087ff\">Conv2D</span>)           │ (<span style=\"color: #00d7ff; text-decoration-color: #00d7ff\">None</span>, <span style=\"color: #00af00; text-decoration-color: #00af00\">224</span>, <span style=\"color: #00af00; text-decoration-color: #00af00\">224</span>, <span style=\"color: #00af00; text-decoration-color: #00af00\">64</span>)   │        <span style=\"color: #00af00; text-decoration-color: #00af00\">36,928</span> │\n",
       "├─────────────────────────────────┼────────────────────────┼───────────────┤\n",
       "│ block1_pool (<span style=\"color: #0087ff; text-decoration-color: #0087ff\">MaxPooling2D</span>)      │ (<span style=\"color: #00d7ff; text-decoration-color: #00d7ff\">None</span>, <span style=\"color: #00af00; text-decoration-color: #00af00\">112</span>, <span style=\"color: #00af00; text-decoration-color: #00af00\">112</span>, <span style=\"color: #00af00; text-decoration-color: #00af00\">64</span>)   │             <span style=\"color: #00af00; text-decoration-color: #00af00\">0</span> │\n",
       "├─────────────────────────────────┼────────────────────────┼───────────────┤\n",
       "│ block2_conv1 (<span style=\"color: #0087ff; text-decoration-color: #0087ff\">Conv2D</span>)           │ (<span style=\"color: #00d7ff; text-decoration-color: #00d7ff\">None</span>, <span style=\"color: #00af00; text-decoration-color: #00af00\">112</span>, <span style=\"color: #00af00; text-decoration-color: #00af00\">112</span>, <span style=\"color: #00af00; text-decoration-color: #00af00\">128</span>)  │        <span style=\"color: #00af00; text-decoration-color: #00af00\">73,856</span> │\n",
       "├─────────────────────────────────┼────────────────────────┼───────────────┤\n",
       "│ block2_conv2 (<span style=\"color: #0087ff; text-decoration-color: #0087ff\">Conv2D</span>)           │ (<span style=\"color: #00d7ff; text-decoration-color: #00d7ff\">None</span>, <span style=\"color: #00af00; text-decoration-color: #00af00\">112</span>, <span style=\"color: #00af00; text-decoration-color: #00af00\">112</span>, <span style=\"color: #00af00; text-decoration-color: #00af00\">128</span>)  │       <span style=\"color: #00af00; text-decoration-color: #00af00\">147,584</span> │\n",
       "├─────────────────────────────────┼────────────────────────┼───────────────┤\n",
       "│ block2_pool (<span style=\"color: #0087ff; text-decoration-color: #0087ff\">MaxPooling2D</span>)      │ (<span style=\"color: #00d7ff; text-decoration-color: #00d7ff\">None</span>, <span style=\"color: #00af00; text-decoration-color: #00af00\">56</span>, <span style=\"color: #00af00; text-decoration-color: #00af00\">56</span>, <span style=\"color: #00af00; text-decoration-color: #00af00\">128</span>)    │             <span style=\"color: #00af00; text-decoration-color: #00af00\">0</span> │\n",
       "├─────────────────────────────────┼────────────────────────┼───────────────┤\n",
       "│ block3_conv1 (<span style=\"color: #0087ff; text-decoration-color: #0087ff\">Conv2D</span>)           │ (<span style=\"color: #00d7ff; text-decoration-color: #00d7ff\">None</span>, <span style=\"color: #00af00; text-decoration-color: #00af00\">56</span>, <span style=\"color: #00af00; text-decoration-color: #00af00\">56</span>, <span style=\"color: #00af00; text-decoration-color: #00af00\">256</span>)    │       <span style=\"color: #00af00; text-decoration-color: #00af00\">295,168</span> │\n",
       "├─────────────────────────────────┼────────────────────────┼───────────────┤\n",
       "│ block3_conv2 (<span style=\"color: #0087ff; text-decoration-color: #0087ff\">Conv2D</span>)           │ (<span style=\"color: #00d7ff; text-decoration-color: #00d7ff\">None</span>, <span style=\"color: #00af00; text-decoration-color: #00af00\">56</span>, <span style=\"color: #00af00; text-decoration-color: #00af00\">56</span>, <span style=\"color: #00af00; text-decoration-color: #00af00\">256</span>)    │       <span style=\"color: #00af00; text-decoration-color: #00af00\">590,080</span> │\n",
       "├─────────────────────────────────┼────────────────────────┼───────────────┤\n",
       "│ block3_conv3 (<span style=\"color: #0087ff; text-decoration-color: #0087ff\">Conv2D</span>)           │ (<span style=\"color: #00d7ff; text-decoration-color: #00d7ff\">None</span>, <span style=\"color: #00af00; text-decoration-color: #00af00\">56</span>, <span style=\"color: #00af00; text-decoration-color: #00af00\">56</span>, <span style=\"color: #00af00; text-decoration-color: #00af00\">256</span>)    │       <span style=\"color: #00af00; text-decoration-color: #00af00\">590,080</span> │\n",
       "├─────────────────────────────────┼────────────────────────┼───────────────┤\n",
       "│ block3_conv4 (<span style=\"color: #0087ff; text-decoration-color: #0087ff\">Conv2D</span>)           │ (<span style=\"color: #00d7ff; text-decoration-color: #00d7ff\">None</span>, <span style=\"color: #00af00; text-decoration-color: #00af00\">56</span>, <span style=\"color: #00af00; text-decoration-color: #00af00\">56</span>, <span style=\"color: #00af00; text-decoration-color: #00af00\">256</span>)    │       <span style=\"color: #00af00; text-decoration-color: #00af00\">590,080</span> │\n",
       "├─────────────────────────────────┼────────────────────────┼───────────────┤\n",
       "│ block3_pool (<span style=\"color: #0087ff; text-decoration-color: #0087ff\">MaxPooling2D</span>)      │ (<span style=\"color: #00d7ff; text-decoration-color: #00d7ff\">None</span>, <span style=\"color: #00af00; text-decoration-color: #00af00\">28</span>, <span style=\"color: #00af00; text-decoration-color: #00af00\">28</span>, <span style=\"color: #00af00; text-decoration-color: #00af00\">256</span>)    │             <span style=\"color: #00af00; text-decoration-color: #00af00\">0</span> │\n",
       "├─────────────────────────────────┼────────────────────────┼───────────────┤\n",
       "│ block4_conv1 (<span style=\"color: #0087ff; text-decoration-color: #0087ff\">Conv2D</span>)           │ (<span style=\"color: #00d7ff; text-decoration-color: #00d7ff\">None</span>, <span style=\"color: #00af00; text-decoration-color: #00af00\">28</span>, <span style=\"color: #00af00; text-decoration-color: #00af00\">28</span>, <span style=\"color: #00af00; text-decoration-color: #00af00\">512</span>)    │     <span style=\"color: #00af00; text-decoration-color: #00af00\">1,180,160</span> │\n",
       "├─────────────────────────────────┼────────────────────────┼───────────────┤\n",
       "│ block4_conv2 (<span style=\"color: #0087ff; text-decoration-color: #0087ff\">Conv2D</span>)           │ (<span style=\"color: #00d7ff; text-decoration-color: #00d7ff\">None</span>, <span style=\"color: #00af00; text-decoration-color: #00af00\">28</span>, <span style=\"color: #00af00; text-decoration-color: #00af00\">28</span>, <span style=\"color: #00af00; text-decoration-color: #00af00\">512</span>)    │     <span style=\"color: #00af00; text-decoration-color: #00af00\">2,359,808</span> │\n",
       "├─────────────────────────────────┼────────────────────────┼───────────────┤\n",
       "│ block4_conv3 (<span style=\"color: #0087ff; text-decoration-color: #0087ff\">Conv2D</span>)           │ (<span style=\"color: #00d7ff; text-decoration-color: #00d7ff\">None</span>, <span style=\"color: #00af00; text-decoration-color: #00af00\">28</span>, <span style=\"color: #00af00; text-decoration-color: #00af00\">28</span>, <span style=\"color: #00af00; text-decoration-color: #00af00\">512</span>)    │     <span style=\"color: #00af00; text-decoration-color: #00af00\">2,359,808</span> │\n",
       "├─────────────────────────────────┼────────────────────────┼───────────────┤\n",
       "│ block4_conv4 (<span style=\"color: #0087ff; text-decoration-color: #0087ff\">Conv2D</span>)           │ (<span style=\"color: #00d7ff; text-decoration-color: #00d7ff\">None</span>, <span style=\"color: #00af00; text-decoration-color: #00af00\">28</span>, <span style=\"color: #00af00; text-decoration-color: #00af00\">28</span>, <span style=\"color: #00af00; text-decoration-color: #00af00\">512</span>)    │     <span style=\"color: #00af00; text-decoration-color: #00af00\">2,359,808</span> │\n",
       "├─────────────────────────────────┼────────────────────────┼───────────────┤\n",
       "│ block4_pool (<span style=\"color: #0087ff; text-decoration-color: #0087ff\">MaxPooling2D</span>)      │ (<span style=\"color: #00d7ff; text-decoration-color: #00d7ff\">None</span>, <span style=\"color: #00af00; text-decoration-color: #00af00\">14</span>, <span style=\"color: #00af00; text-decoration-color: #00af00\">14</span>, <span style=\"color: #00af00; text-decoration-color: #00af00\">512</span>)    │             <span style=\"color: #00af00; text-decoration-color: #00af00\">0</span> │\n",
       "├─────────────────────────────────┼────────────────────────┼───────────────┤\n",
       "│ block5_conv1 (<span style=\"color: #0087ff; text-decoration-color: #0087ff\">Conv2D</span>)           │ (<span style=\"color: #00d7ff; text-decoration-color: #00d7ff\">None</span>, <span style=\"color: #00af00; text-decoration-color: #00af00\">14</span>, <span style=\"color: #00af00; text-decoration-color: #00af00\">14</span>, <span style=\"color: #00af00; text-decoration-color: #00af00\">512</span>)    │     <span style=\"color: #00af00; text-decoration-color: #00af00\">2,359,808</span> │\n",
       "├─────────────────────────────────┼────────────────────────┼───────────────┤\n",
       "│ block5_conv2 (<span style=\"color: #0087ff; text-decoration-color: #0087ff\">Conv2D</span>)           │ (<span style=\"color: #00d7ff; text-decoration-color: #00d7ff\">None</span>, <span style=\"color: #00af00; text-decoration-color: #00af00\">14</span>, <span style=\"color: #00af00; text-decoration-color: #00af00\">14</span>, <span style=\"color: #00af00; text-decoration-color: #00af00\">512</span>)    │     <span style=\"color: #00af00; text-decoration-color: #00af00\">2,359,808</span> │\n",
       "├─────────────────────────────────┼────────────────────────┼───────────────┤\n",
       "│ block5_conv3 (<span style=\"color: #0087ff; text-decoration-color: #0087ff\">Conv2D</span>)           │ (<span style=\"color: #00d7ff; text-decoration-color: #00d7ff\">None</span>, <span style=\"color: #00af00; text-decoration-color: #00af00\">14</span>, <span style=\"color: #00af00; text-decoration-color: #00af00\">14</span>, <span style=\"color: #00af00; text-decoration-color: #00af00\">512</span>)    │     <span style=\"color: #00af00; text-decoration-color: #00af00\">2,359,808</span> │\n",
       "├─────────────────────────────────┼────────────────────────┼───────────────┤\n",
       "│ block5_conv4 (<span style=\"color: #0087ff; text-decoration-color: #0087ff\">Conv2D</span>)           │ (<span style=\"color: #00d7ff; text-decoration-color: #00d7ff\">None</span>, <span style=\"color: #00af00; text-decoration-color: #00af00\">14</span>, <span style=\"color: #00af00; text-decoration-color: #00af00\">14</span>, <span style=\"color: #00af00; text-decoration-color: #00af00\">512</span>)    │     <span style=\"color: #00af00; text-decoration-color: #00af00\">2,359,808</span> │\n",
       "├─────────────────────────────────┼────────────────────────┼───────────────┤\n",
       "│ block5_pool (<span style=\"color: #0087ff; text-decoration-color: #0087ff\">MaxPooling2D</span>)      │ (<span style=\"color: #00d7ff; text-decoration-color: #00d7ff\">None</span>, <span style=\"color: #00af00; text-decoration-color: #00af00\">7</span>, <span style=\"color: #00af00; text-decoration-color: #00af00\">7</span>, <span style=\"color: #00af00; text-decoration-color: #00af00\">512</span>)      │             <span style=\"color: #00af00; text-decoration-color: #00af00\">0</span> │\n",
       "└─────────────────────────────────┴────────────────────────┴───────────────┘\n",
       "</pre>\n"
      ],
      "text/plain": [
       "┏━━━━━━━━━━━━━━━━━━━━━━━━━━━━━━━━━┳━━━━━━━━━━━━━━━━━━━━━━━━┳━━━━━━━━━━━━━━━┓\n",
       "┃\u001b[1m \u001b[0m\u001b[1mLayer (type)                   \u001b[0m\u001b[1m \u001b[0m┃\u001b[1m \u001b[0m\u001b[1mOutput Shape          \u001b[0m\u001b[1m \u001b[0m┃\u001b[1m \u001b[0m\u001b[1m      Param #\u001b[0m\u001b[1m \u001b[0m┃\n",
       "┡━━━━━━━━━━━━━━━━━━━━━━━━━━━━━━━━━╇━━━━━━━━━━━━━━━━━━━━━━━━╇━━━━━━━━━━━━━━━┩\n",
       "│ input_layer (\u001b[38;5;33mInputLayer\u001b[0m)        │ (\u001b[38;5;45mNone\u001b[0m, \u001b[38;5;34m224\u001b[0m, \u001b[38;5;34m224\u001b[0m, \u001b[38;5;34m3\u001b[0m)    │             \u001b[38;5;34m0\u001b[0m │\n",
       "├─────────────────────────────────┼────────────────────────┼───────────────┤\n",
       "│ block1_conv1 (\u001b[38;5;33mConv2D\u001b[0m)           │ (\u001b[38;5;45mNone\u001b[0m, \u001b[38;5;34m224\u001b[0m, \u001b[38;5;34m224\u001b[0m, \u001b[38;5;34m64\u001b[0m)   │         \u001b[38;5;34m1,792\u001b[0m │\n",
       "├─────────────────────────────────┼────────────────────────┼───────────────┤\n",
       "│ block1_conv2 (\u001b[38;5;33mConv2D\u001b[0m)           │ (\u001b[38;5;45mNone\u001b[0m, \u001b[38;5;34m224\u001b[0m, \u001b[38;5;34m224\u001b[0m, \u001b[38;5;34m64\u001b[0m)   │        \u001b[38;5;34m36,928\u001b[0m │\n",
       "├─────────────────────────────────┼────────────────────────┼───────────────┤\n",
       "│ block1_pool (\u001b[38;5;33mMaxPooling2D\u001b[0m)      │ (\u001b[38;5;45mNone\u001b[0m, \u001b[38;5;34m112\u001b[0m, \u001b[38;5;34m112\u001b[0m, \u001b[38;5;34m64\u001b[0m)   │             \u001b[38;5;34m0\u001b[0m │\n",
       "├─────────────────────────────────┼────────────────────────┼───────────────┤\n",
       "│ block2_conv1 (\u001b[38;5;33mConv2D\u001b[0m)           │ (\u001b[38;5;45mNone\u001b[0m, \u001b[38;5;34m112\u001b[0m, \u001b[38;5;34m112\u001b[0m, \u001b[38;5;34m128\u001b[0m)  │        \u001b[38;5;34m73,856\u001b[0m │\n",
       "├─────────────────────────────────┼────────────────────────┼───────────────┤\n",
       "│ block2_conv2 (\u001b[38;5;33mConv2D\u001b[0m)           │ (\u001b[38;5;45mNone\u001b[0m, \u001b[38;5;34m112\u001b[0m, \u001b[38;5;34m112\u001b[0m, \u001b[38;5;34m128\u001b[0m)  │       \u001b[38;5;34m147,584\u001b[0m │\n",
       "├─────────────────────────────────┼────────────────────────┼───────────────┤\n",
       "│ block2_pool (\u001b[38;5;33mMaxPooling2D\u001b[0m)      │ (\u001b[38;5;45mNone\u001b[0m, \u001b[38;5;34m56\u001b[0m, \u001b[38;5;34m56\u001b[0m, \u001b[38;5;34m128\u001b[0m)    │             \u001b[38;5;34m0\u001b[0m │\n",
       "├─────────────────────────────────┼────────────────────────┼───────────────┤\n",
       "│ block3_conv1 (\u001b[38;5;33mConv2D\u001b[0m)           │ (\u001b[38;5;45mNone\u001b[0m, \u001b[38;5;34m56\u001b[0m, \u001b[38;5;34m56\u001b[0m, \u001b[38;5;34m256\u001b[0m)    │       \u001b[38;5;34m295,168\u001b[0m │\n",
       "├─────────────────────────────────┼────────────────────────┼───────────────┤\n",
       "│ block3_conv2 (\u001b[38;5;33mConv2D\u001b[0m)           │ (\u001b[38;5;45mNone\u001b[0m, \u001b[38;5;34m56\u001b[0m, \u001b[38;5;34m56\u001b[0m, \u001b[38;5;34m256\u001b[0m)    │       \u001b[38;5;34m590,080\u001b[0m │\n",
       "├─────────────────────────────────┼────────────────────────┼───────────────┤\n",
       "│ block3_conv3 (\u001b[38;5;33mConv2D\u001b[0m)           │ (\u001b[38;5;45mNone\u001b[0m, \u001b[38;5;34m56\u001b[0m, \u001b[38;5;34m56\u001b[0m, \u001b[38;5;34m256\u001b[0m)    │       \u001b[38;5;34m590,080\u001b[0m │\n",
       "├─────────────────────────────────┼────────────────────────┼───────────────┤\n",
       "│ block3_conv4 (\u001b[38;5;33mConv2D\u001b[0m)           │ (\u001b[38;5;45mNone\u001b[0m, \u001b[38;5;34m56\u001b[0m, \u001b[38;5;34m56\u001b[0m, \u001b[38;5;34m256\u001b[0m)    │       \u001b[38;5;34m590,080\u001b[0m │\n",
       "├─────────────────────────────────┼────────────────────────┼───────────────┤\n",
       "│ block3_pool (\u001b[38;5;33mMaxPooling2D\u001b[0m)      │ (\u001b[38;5;45mNone\u001b[0m, \u001b[38;5;34m28\u001b[0m, \u001b[38;5;34m28\u001b[0m, \u001b[38;5;34m256\u001b[0m)    │             \u001b[38;5;34m0\u001b[0m │\n",
       "├─────────────────────────────────┼────────────────────────┼───────────────┤\n",
       "│ block4_conv1 (\u001b[38;5;33mConv2D\u001b[0m)           │ (\u001b[38;5;45mNone\u001b[0m, \u001b[38;5;34m28\u001b[0m, \u001b[38;5;34m28\u001b[0m, \u001b[38;5;34m512\u001b[0m)    │     \u001b[38;5;34m1,180,160\u001b[0m │\n",
       "├─────────────────────────────────┼────────────────────────┼───────────────┤\n",
       "│ block4_conv2 (\u001b[38;5;33mConv2D\u001b[0m)           │ (\u001b[38;5;45mNone\u001b[0m, \u001b[38;5;34m28\u001b[0m, \u001b[38;5;34m28\u001b[0m, \u001b[38;5;34m512\u001b[0m)    │     \u001b[38;5;34m2,359,808\u001b[0m │\n",
       "├─────────────────────────────────┼────────────────────────┼───────────────┤\n",
       "│ block4_conv3 (\u001b[38;5;33mConv2D\u001b[0m)           │ (\u001b[38;5;45mNone\u001b[0m, \u001b[38;5;34m28\u001b[0m, \u001b[38;5;34m28\u001b[0m, \u001b[38;5;34m512\u001b[0m)    │     \u001b[38;5;34m2,359,808\u001b[0m │\n",
       "├─────────────────────────────────┼────────────────────────┼───────────────┤\n",
       "│ block4_conv4 (\u001b[38;5;33mConv2D\u001b[0m)           │ (\u001b[38;5;45mNone\u001b[0m, \u001b[38;5;34m28\u001b[0m, \u001b[38;5;34m28\u001b[0m, \u001b[38;5;34m512\u001b[0m)    │     \u001b[38;5;34m2,359,808\u001b[0m │\n",
       "├─────────────────────────────────┼────────────────────────┼───────────────┤\n",
       "│ block4_pool (\u001b[38;5;33mMaxPooling2D\u001b[0m)      │ (\u001b[38;5;45mNone\u001b[0m, \u001b[38;5;34m14\u001b[0m, \u001b[38;5;34m14\u001b[0m, \u001b[38;5;34m512\u001b[0m)    │             \u001b[38;5;34m0\u001b[0m │\n",
       "├─────────────────────────────────┼────────────────────────┼───────────────┤\n",
       "│ block5_conv1 (\u001b[38;5;33mConv2D\u001b[0m)           │ (\u001b[38;5;45mNone\u001b[0m, \u001b[38;5;34m14\u001b[0m, \u001b[38;5;34m14\u001b[0m, \u001b[38;5;34m512\u001b[0m)    │     \u001b[38;5;34m2,359,808\u001b[0m │\n",
       "├─────────────────────────────────┼────────────────────────┼───────────────┤\n",
       "│ block5_conv2 (\u001b[38;5;33mConv2D\u001b[0m)           │ (\u001b[38;5;45mNone\u001b[0m, \u001b[38;5;34m14\u001b[0m, \u001b[38;5;34m14\u001b[0m, \u001b[38;5;34m512\u001b[0m)    │     \u001b[38;5;34m2,359,808\u001b[0m │\n",
       "├─────────────────────────────────┼────────────────────────┼───────────────┤\n",
       "│ block5_conv3 (\u001b[38;5;33mConv2D\u001b[0m)           │ (\u001b[38;5;45mNone\u001b[0m, \u001b[38;5;34m14\u001b[0m, \u001b[38;5;34m14\u001b[0m, \u001b[38;5;34m512\u001b[0m)    │     \u001b[38;5;34m2,359,808\u001b[0m │\n",
       "├─────────────────────────────────┼────────────────────────┼───────────────┤\n",
       "│ block5_conv4 (\u001b[38;5;33mConv2D\u001b[0m)           │ (\u001b[38;5;45mNone\u001b[0m, \u001b[38;5;34m14\u001b[0m, \u001b[38;5;34m14\u001b[0m, \u001b[38;5;34m512\u001b[0m)    │     \u001b[38;5;34m2,359,808\u001b[0m │\n",
       "├─────────────────────────────────┼────────────────────────┼───────────────┤\n",
       "│ block5_pool (\u001b[38;5;33mMaxPooling2D\u001b[0m)      │ (\u001b[38;5;45mNone\u001b[0m, \u001b[38;5;34m7\u001b[0m, \u001b[38;5;34m7\u001b[0m, \u001b[38;5;34m512\u001b[0m)      │             \u001b[38;5;34m0\u001b[0m │\n",
       "└─────────────────────────────────┴────────────────────────┴───────────────┘\n"
      ]
     },
     "metadata": {},
     "output_type": "display_data"
    },
    {
     "data": {
      "text/html": [
       "<pre style=\"white-space:pre;overflow-x:auto;line-height:normal;font-family:Menlo,'DejaVu Sans Mono',consolas,'Courier New',monospace\"><span style=\"font-weight: bold\"> Total params: </span><span style=\"color: #00af00; text-decoration-color: #00af00\">20,024,384</span> (76.39 MB)\n",
       "</pre>\n"
      ],
      "text/plain": [
       "\u001b[1m Total params: \u001b[0m\u001b[38;5;34m20,024,384\u001b[0m (76.39 MB)\n"
      ]
     },
     "metadata": {},
     "output_type": "display_data"
    },
    {
     "data": {
      "text/html": [
       "<pre style=\"white-space:pre;overflow-x:auto;line-height:normal;font-family:Menlo,'DejaVu Sans Mono',consolas,'Courier New',monospace\"><span style=\"font-weight: bold\"> Trainable params: </span><span style=\"color: #00af00; text-decoration-color: #00af00\">0</span> (0.00 B)\n",
       "</pre>\n"
      ],
      "text/plain": [
       "\u001b[1m Trainable params: \u001b[0m\u001b[38;5;34m0\u001b[0m (0.00 B)\n"
      ]
     },
     "metadata": {},
     "output_type": "display_data"
    },
    {
     "data": {
      "text/html": [
       "<pre style=\"white-space:pre;overflow-x:auto;line-height:normal;font-family:Menlo,'DejaVu Sans Mono',consolas,'Courier New',monospace\"><span style=\"font-weight: bold\"> Non-trainable params: </span><span style=\"color: #00af00; text-decoration-color: #00af00\">20,024,384</span> (76.39 MB)\n",
       "</pre>\n"
      ],
      "text/plain": [
       "\u001b[1m Non-trainable params: \u001b[0m\u001b[38;5;34m20,024,384\u001b[0m (76.39 MB)\n"
      ]
     },
     "metadata": {},
     "output_type": "display_data"
    }
   ],
   "source": [
    "model = tf.keras.Model(inputs, outputs)\n",
    "\n",
    "base_learning_rate = 0.001\n",
    "# Compile the model with a loss function and an optimizer\n",
    "model.compile(loss='sparse_categorical_crossentropy',\n",
    "              optimizer=tf.keras.optimizers.Adam(learning_rate=base_learning_rate),\n",
    "              metrics=['accuracy'])\n",
    "\n",
    "base_model.summary()"
   ]
  },
  {
   "cell_type": "markdown",
   "id": "368d4f62-fb4f-4b9a-90d4-753fbf79a9be",
   "metadata": {},
   "source": [
    "### Model Training with Callbacks and Timing\n",
    "\n",
    "This cell initiates the training of the VGG19-based image classification model while monitoring performance, saving the best version of the model, and logging the training progress.\n",
    "\n",
    "---\n",
    "\n",
    "This cell is crucial for initiating model training while: Automatically saving the best model, logging the training history to a CSV file, measuring training time, and displaying progress updates."
   ]
  },
  {
   "cell_type": "code",
   "execution_count": 12,
   "id": "7acfec1f-2d6a-47d4-b5d0-b0648114575f",
   "metadata": {},
   "outputs": [
    {
     "name": "stdout",
     "output_type": "stream",
     "text": [
      "Epoch 1/80\n"
     ]
    },
    {
     "name": "stderr",
     "output_type": "stream",
     "text": [
      "I0000 00:00:1753252120.494390     621 cuda_dnn.cc:529] Loaded cuDNN version 90701\n"
     ]
    },
    {
     "name": "stdout",
     "output_type": "stream",
     "text": [
      "\u001b[1m815/815\u001b[0m \u001b[32m━━━━━━━━━━━━━━━━━━━━\u001b[0m\u001b[37m\u001b[0m \u001b[1m0s\u001b[0m 93ms/step - accuracy: 0.6941 - loss: 8.5373\n",
      "Epoch 1: val_accuracy improved from -inf to 0.87242, saving model to modelVGG19.keras\n",
      "\u001b[1m815/815\u001b[0m \u001b[32m━━━━━━━━━━━━━━━━━━━━\u001b[0m\u001b[37m\u001b[0m \u001b[1m95s\u001b[0m 111ms/step - accuracy: 0.6941 - loss: 8.5331 - val_accuracy: 0.8724 - val_loss: 1.3494\n",
      "Epoch 2/80\n",
      "\u001b[1m815/815\u001b[0m \u001b[32m━━━━━━━━━━━━━━━━━━━━\u001b[0m\u001b[37m\u001b[0m \u001b[1m0s\u001b[0m 92ms/step - accuracy: 0.7986 - loss: 1.3667\n",
      "Epoch 2: val_accuracy did not improve from 0.87242\n",
      "\u001b[1m815/815\u001b[0m \u001b[32m━━━━━━━━━━━━━━━━━━━━\u001b[0m\u001b[37m\u001b[0m \u001b[1m88s\u001b[0m 108ms/step - accuracy: 0.7986 - loss: 1.3666 - val_accuracy: 0.8724 - val_loss: 0.9574\n",
      "Epoch 3/80\n",
      "\u001b[1m815/815\u001b[0m \u001b[32m━━━━━━━━━━━━━━━━━━━━\u001b[0m\u001b[37m\u001b[0m \u001b[1m0s\u001b[0m 92ms/step - accuracy: 0.7954 - loss: 1.1469\n",
      "Epoch 3: val_accuracy improved from 0.87242 to 0.88694, saving model to modelVGG19.keras\n",
      "\u001b[1m815/815\u001b[0m \u001b[32m━━━━━━━━━━━━━━━━━━━━\u001b[0m\u001b[37m\u001b[0m \u001b[1m88s\u001b[0m 109ms/step - accuracy: 0.7954 - loss: 1.1469 - val_accuracy: 0.8869 - val_loss: 0.8544\n",
      "Epoch 4/80\n",
      "\u001b[1m815/815\u001b[0m \u001b[32m━━━━━━━━━━━━━━━━━━━━\u001b[0m\u001b[37m\u001b[0m \u001b[1m0s\u001b[0m 92ms/step - accuracy: 0.7935 - loss: 1.0758\n",
      "Epoch 4: val_accuracy improved from 0.88694 to 0.89076, saving model to modelVGG19.keras\n",
      "\u001b[1m815/815\u001b[0m \u001b[32m━━━━━━━━━━━━━━━━━━━━\u001b[0m\u001b[37m\u001b[0m \u001b[1m89s\u001b[0m 109ms/step - accuracy: 0.7935 - loss: 1.0757 - val_accuracy: 0.8908 - val_loss: 0.7911\n",
      "Epoch 5/80\n",
      "\u001b[1m815/815\u001b[0m \u001b[32m━━━━━━━━━━━━━━━━━━━━\u001b[0m\u001b[37m\u001b[0m \u001b[1m0s\u001b[0m 92ms/step - accuracy: 0.8008 - loss: 1.0107\n",
      "Epoch 5: val_accuracy did not improve from 0.89076\n",
      "\u001b[1m815/815\u001b[0m \u001b[32m━━━━━━━━━━━━━━━━━━━━\u001b[0m\u001b[37m\u001b[0m \u001b[1m88s\u001b[0m 109ms/step - accuracy: 0.8008 - loss: 1.0106 - val_accuracy: 0.8908 - val_loss: 0.7557\n",
      "Epoch 6/80\n",
      "\u001b[1m815/815\u001b[0m \u001b[32m━━━━━━━━━━━━━━━━━━━━\u001b[0m\u001b[37m\u001b[0m \u001b[1m0s\u001b[0m 93ms/step - accuracy: 0.8227 - loss: 0.9637\n",
      "Epoch 6: val_accuracy did not improve from 0.89076\n",
      "\u001b[1m815/815\u001b[0m \u001b[32m━━━━━━━━━━━━━━━━━━━━\u001b[0m\u001b[37m\u001b[0m \u001b[1m89s\u001b[0m 109ms/step - accuracy: 0.8227 - loss: 0.9636 - val_accuracy: 0.8885 - val_loss: 0.7215\n",
      "Epoch 7/80\n",
      "\u001b[1m815/815\u001b[0m \u001b[32m━━━━━━━━━━━━━━━━━━━━\u001b[0m\u001b[37m\u001b[0m \u001b[1m0s\u001b[0m 93ms/step - accuracy: 0.8138 - loss: 0.9381\n",
      "Epoch 7: val_accuracy improved from 0.89076 to 0.89534, saving model to modelVGG19.keras\n",
      "\u001b[1m815/815\u001b[0m \u001b[32m━━━━━━━━━━━━━━━━━━━━\u001b[0m\u001b[37m\u001b[0m \u001b[1m89s\u001b[0m 109ms/step - accuracy: 0.8138 - loss: 0.9381 - val_accuracy: 0.8953 - val_loss: 0.6853\n",
      "Epoch 8/80\n",
      "\u001b[1m815/815\u001b[0m \u001b[32m━━━━━━━━━━━━━━━━━━━━\u001b[0m\u001b[37m\u001b[0m \u001b[1m0s\u001b[0m 93ms/step - accuracy: 0.8146 - loss: 0.9216\n",
      "Epoch 8: val_accuracy did not improve from 0.89534\n",
      "\u001b[1m815/815\u001b[0m \u001b[32m━━━━━━━━━━━━━━━━━━━━\u001b[0m\u001b[37m\u001b[0m \u001b[1m89s\u001b[0m 109ms/step - accuracy: 0.8147 - loss: 0.9216 - val_accuracy: 0.8854 - val_loss: 0.7179\n",
      "Epoch 9/80\n",
      "\u001b[1m815/815\u001b[0m \u001b[32m━━━━━━━━━━━━━━━━━━━━\u001b[0m\u001b[37m\u001b[0m \u001b[1m0s\u001b[0m 93ms/step - accuracy: 0.8225 - loss: 0.8899\n",
      "Epoch 9: val_accuracy did not improve from 0.89534\n",
      "\u001b[1m815/815\u001b[0m \u001b[32m━━━━━━━━━━━━━━━━━━━━\u001b[0m\u001b[37m\u001b[0m \u001b[1m89s\u001b[0m 109ms/step - accuracy: 0.8225 - loss: 0.8899 - val_accuracy: 0.8923 - val_loss: 0.6619\n",
      "Epoch 10/80\n",
      "\u001b[1m815/815\u001b[0m \u001b[32m━━━━━━━━━━━━━━━━━━━━\u001b[0m\u001b[37m\u001b[0m \u001b[1m0s\u001b[0m 93ms/step - accuracy: 0.8218 - loss: 0.8648\n",
      "Epoch 10: val_accuracy did not improve from 0.89534\n",
      "\u001b[1m815/815\u001b[0m \u001b[32m━━━━━━━━━━━━━━━━━━━━\u001b[0m\u001b[37m\u001b[0m \u001b[1m89s\u001b[0m 109ms/step - accuracy: 0.8218 - loss: 0.8648 - val_accuracy: 0.8915 - val_loss: 0.6744\n",
      "Epoch 11/80\n",
      "\u001b[1m815/815\u001b[0m \u001b[32m━━━━━━━━━━━━━━━━━━━━\u001b[0m\u001b[37m\u001b[0m \u001b[1m0s\u001b[0m 93ms/step - accuracy: 0.8237 - loss: 0.8496\n",
      "Epoch 11: val_accuracy did not improve from 0.89534\n",
      "\u001b[1m815/815\u001b[0m \u001b[32m━━━━━━━━━━━━━━━━━━━━\u001b[0m\u001b[37m\u001b[0m \u001b[1m89s\u001b[0m 109ms/step - accuracy: 0.8237 - loss: 0.8496 - val_accuracy: 0.8938 - val_loss: 0.6375\n",
      "Epoch 12/80\n",
      "\u001b[1m815/815\u001b[0m \u001b[32m━━━━━━━━━━━━━━━━━━━━\u001b[0m\u001b[37m\u001b[0m \u001b[1m0s\u001b[0m 92ms/step - accuracy: 0.8262 - loss: 0.8494\n",
      "Epoch 12: val_accuracy improved from 0.89534 to 0.90222, saving model to modelVGG19.keras\n",
      "\u001b[1m815/815\u001b[0m \u001b[32m━━━━━━━━━━━━━━━━━━━━\u001b[0m\u001b[37m\u001b[0m \u001b[1m89s\u001b[0m 109ms/step - accuracy: 0.8262 - loss: 0.8494 - val_accuracy: 0.9022 - val_loss: 0.5834\n",
      "Epoch 13/80\n",
      "\u001b[1m815/815\u001b[0m \u001b[32m━━━━━━━━━━━━━━━━━━━━\u001b[0m\u001b[37m\u001b[0m \u001b[1m0s\u001b[0m 92ms/step - accuracy: 0.8180 - loss: 0.8144\n",
      "Epoch 13: val_accuracy did not improve from 0.90222\n",
      "\u001b[1m815/815\u001b[0m \u001b[32m━━━━━━━━━━━━━━━━━━━━\u001b[0m\u001b[37m\u001b[0m \u001b[1m89s\u001b[0m 109ms/step - accuracy: 0.8180 - loss: 0.8144 - val_accuracy: 0.8946 - val_loss: 0.6017\n",
      "Epoch 14/80\n",
      "\u001b[1m815/815\u001b[0m \u001b[32m━━━━━━━━━━━━━━━━━━━━\u001b[0m\u001b[37m\u001b[0m \u001b[1m0s\u001b[0m 93ms/step - accuracy: 0.8201 - loss: 0.8333\n",
      "Epoch 14: val_accuracy did not improve from 0.90222\n",
      "\u001b[1m815/815\u001b[0m \u001b[32m━━━━━━━━━━━━━━━━━━━━\u001b[0m\u001b[37m\u001b[0m \u001b[1m89s\u001b[0m 109ms/step - accuracy: 0.8201 - loss: 0.8333 - val_accuracy: 0.8923 - val_loss: 0.6213\n",
      "Epoch 15/80\n",
      "\u001b[1m815/815\u001b[0m \u001b[32m━━━━━━━━━━━━━━━━━━━━\u001b[0m\u001b[37m\u001b[0m \u001b[1m0s\u001b[0m 93ms/step - accuracy: 0.8324 - loss: 0.7969\n",
      "Epoch 15: val_accuracy did not improve from 0.90222\n",
      "\u001b[1m815/815\u001b[0m \u001b[32m━━━━━━━━━━━━━━━━━━━━\u001b[0m\u001b[37m\u001b[0m \u001b[1m89s\u001b[0m 109ms/step - accuracy: 0.8324 - loss: 0.7969 - val_accuracy: 0.8969 - val_loss: 0.6364\n",
      "Epoch 16/80\n",
      "\u001b[1m815/815\u001b[0m \u001b[32m━━━━━━━━━━━━━━━━━━━━\u001b[0m\u001b[37m\u001b[0m \u001b[1m0s\u001b[0m 93ms/step - accuracy: 0.8202 - loss: 0.8217\n",
      "Epoch 16: val_accuracy improved from 0.90222 to 0.90451, saving model to modelVGG19.keras\n",
      "\u001b[1m815/815\u001b[0m \u001b[32m━━━━━━━━━━━━━━━━━━━━\u001b[0m\u001b[37m\u001b[0m \u001b[1m89s\u001b[0m 109ms/step - accuracy: 0.8202 - loss: 0.8216 - val_accuracy: 0.9045 - val_loss: 0.5662\n",
      "Epoch 17/80\n",
      "\u001b[1m815/815\u001b[0m \u001b[32m━━━━━━━━━━━━━━━━━━━━\u001b[0m\u001b[37m\u001b[0m \u001b[1m0s\u001b[0m 93ms/step - accuracy: 0.8262 - loss: 0.7996\n",
      "Epoch 17: val_accuracy did not improve from 0.90451\n",
      "\u001b[1m815/815\u001b[0m \u001b[32m━━━━━━━━━━━━━━━━━━━━\u001b[0m\u001b[37m\u001b[0m \u001b[1m89s\u001b[0m 109ms/step - accuracy: 0.8262 - loss: 0.7996 - val_accuracy: 0.8976 - val_loss: 0.5993\n",
      "Epoch 18/80\n",
      "\u001b[1m815/815\u001b[0m \u001b[32m━━━━━━━━━━━━━━━━━━━━\u001b[0m\u001b[37m\u001b[0m \u001b[1m0s\u001b[0m 93ms/step - accuracy: 0.8259 - loss: 0.7941\n",
      "Epoch 18: val_accuracy improved from 0.90451 to 0.90833, saving model to modelVGG19.keras\n",
      "\u001b[1m815/815\u001b[0m \u001b[32m━━━━━━━━━━━━━━━━━━━━\u001b[0m\u001b[37m\u001b[0m \u001b[1m89s\u001b[0m 110ms/step - accuracy: 0.8259 - loss: 0.7941 - val_accuracy: 0.9083 - val_loss: 0.5626\n",
      "Epoch 19/80\n",
      "\u001b[1m815/815\u001b[0m \u001b[32m━━━━━━━━━━━━━━━━━━━━\u001b[0m\u001b[37m\u001b[0m \u001b[1m0s\u001b[0m 92ms/step - accuracy: 0.8194 - loss: 0.8067\n",
      "Epoch 19: val_accuracy did not improve from 0.90833\n",
      "\u001b[1m815/815\u001b[0m \u001b[32m━━━━━━━━━━━━━━━━━━━━\u001b[0m\u001b[37m\u001b[0m \u001b[1m89s\u001b[0m 109ms/step - accuracy: 0.8194 - loss: 0.8066 - val_accuracy: 0.8961 - val_loss: 0.5892\n",
      "Epoch 20/80\n",
      "\u001b[1m815/815\u001b[0m \u001b[32m━━━━━━━━━━━━━━━━━━━━\u001b[0m\u001b[37m\u001b[0m \u001b[1m0s\u001b[0m 92ms/step - accuracy: 0.8221 - loss: 0.7967\n",
      "Epoch 20: val_accuracy did not improve from 0.90833\n",
      "\u001b[1m815/815\u001b[0m \u001b[32m━━━━━━━━━━━━━━━━━━━━\u001b[0m\u001b[37m\u001b[0m \u001b[1m88s\u001b[0m 109ms/step - accuracy: 0.8221 - loss: 0.7967 - val_accuracy: 0.9037 - val_loss: 0.5606\n",
      "Epoch 21/80\n",
      "\u001b[1m815/815\u001b[0m \u001b[32m━━━━━━━━━━━━━━━━━━━━\u001b[0m\u001b[37m\u001b[0m \u001b[1m0s\u001b[0m 92ms/step - accuracy: 0.8213 - loss: 0.7894\n",
      "Epoch 21: val_accuracy did not improve from 0.90833\n",
      "\u001b[1m815/815\u001b[0m \u001b[32m━━━━━━━━━━━━━━━━━━━━\u001b[0m\u001b[37m\u001b[0m \u001b[1m89s\u001b[0m 109ms/step - accuracy: 0.8213 - loss: 0.7893 - val_accuracy: 0.8984 - val_loss: 0.5690\n",
      "Epoch 22/80\n",
      "\u001b[1m815/815\u001b[0m \u001b[32m━━━━━━━━━━━━━━━━━━━━\u001b[0m\u001b[37m\u001b[0m \u001b[1m0s\u001b[0m 93ms/step - accuracy: 0.8238 - loss: 0.8104\n",
      "Epoch 22: val_accuracy did not improve from 0.90833\n",
      "\u001b[1m815/815\u001b[0m \u001b[32m━━━━━━━━━━━━━━━━━━━━\u001b[0m\u001b[37m\u001b[0m \u001b[1m89s\u001b[0m 109ms/step - accuracy: 0.8238 - loss: 0.8103 - val_accuracy: 0.8938 - val_loss: 0.5786\n",
      "Epoch 23/80\n",
      "\u001b[1m815/815\u001b[0m \u001b[32m━━━━━━━━━━━━━━━━━━━━\u001b[0m\u001b[37m\u001b[0m \u001b[1m0s\u001b[0m 92ms/step - accuracy: 0.8196 - loss: 0.7942\n",
      "Epoch 23: val_accuracy improved from 0.90833 to 0.91367, saving model to modelVGG19.keras\n",
      "\u001b[1m815/815\u001b[0m \u001b[32m━━━━━━━━━━━━━━━━━━━━\u001b[0m\u001b[37m\u001b[0m \u001b[1m89s\u001b[0m 109ms/step - accuracy: 0.8196 - loss: 0.7942 - val_accuracy: 0.9137 - val_loss: 0.5454\n",
      "Epoch 24/80\n",
      "\u001b[1m815/815\u001b[0m \u001b[32m━━━━━━━━━━━━━━━━━━━━\u001b[0m\u001b[37m\u001b[0m \u001b[1m0s\u001b[0m 93ms/step - accuracy: 0.8225 - loss: 0.7890\n",
      "Epoch 24: val_accuracy did not improve from 0.91367\n",
      "\u001b[1m815/815\u001b[0m \u001b[32m━━━━━━━━━━━━━━━━━━━━\u001b[0m\u001b[37m\u001b[0m \u001b[1m89s\u001b[0m 109ms/step - accuracy: 0.8225 - loss: 0.7890 - val_accuracy: 0.9083 - val_loss: 0.5314\n",
      "Epoch 25/80\n",
      "\u001b[1m815/815\u001b[0m \u001b[32m━━━━━━━━━━━━━━━━━━━━\u001b[0m\u001b[37m\u001b[0m \u001b[1m0s\u001b[0m 93ms/step - accuracy: 0.8254 - loss: 0.7820\n",
      "Epoch 25: val_accuracy did not improve from 0.91367\n",
      "\u001b[1m815/815\u001b[0m \u001b[32m━━━━━━━━━━━━━━━━━━━━\u001b[0m\u001b[37m\u001b[0m \u001b[1m89s\u001b[0m 109ms/step - accuracy: 0.8254 - loss: 0.7819 - val_accuracy: 0.8953 - val_loss: 0.5720\n",
      "Epoch 26/80\n",
      "\u001b[1m815/815\u001b[0m \u001b[32m━━━━━━━━━━━━━━━━━━━━\u001b[0m\u001b[37m\u001b[0m \u001b[1m0s\u001b[0m 93ms/step - accuracy: 0.8180 - loss: 0.7952\n",
      "Epoch 26: val_accuracy did not improve from 0.91367\n",
      "\u001b[1m815/815\u001b[0m \u001b[32m━━━━━━━━━━━━━━━━━━━━\u001b[0m\u001b[37m\u001b[0m \u001b[1m89s\u001b[0m 109ms/step - accuracy: 0.8180 - loss: 0.7952 - val_accuracy: 0.8999 - val_loss: 0.5464\n",
      "Epoch 27/80\n",
      "\u001b[1m815/815\u001b[0m \u001b[32m━━━━━━━━━━━━━━━━━━━━\u001b[0m\u001b[37m\u001b[0m \u001b[1m0s\u001b[0m 93ms/step - accuracy: 0.8285 - loss: 0.7694\n",
      "Epoch 27: val_accuracy did not improve from 0.91367\n",
      "\u001b[1m815/815\u001b[0m \u001b[32m━━━━━━━━━━━━━━━━━━━━\u001b[0m\u001b[37m\u001b[0m \u001b[1m89s\u001b[0m 109ms/step - accuracy: 0.8285 - loss: 0.7693 - val_accuracy: 0.9053 - val_loss: 0.5385\n",
      "Epoch 28/80\n",
      "\u001b[1m815/815\u001b[0m \u001b[32m━━━━━━━━━━━━━━━━━━━━\u001b[0m\u001b[37m\u001b[0m \u001b[1m0s\u001b[0m 93ms/step - accuracy: 0.8273 - loss: 0.7641\n",
      "Epoch 28: val_accuracy did not improve from 0.91367\n",
      "\u001b[1m815/815\u001b[0m \u001b[32m━━━━━━━━━━━━━━━━━━━━\u001b[0m\u001b[37m\u001b[0m \u001b[1m89s\u001b[0m 109ms/step - accuracy: 0.8273 - loss: 0.7641 - val_accuracy: 0.9030 - val_loss: 0.5428\n",
      "Epoch 29/80\n",
      "\u001b[1m815/815\u001b[0m \u001b[32m━━━━━━━━━━━━━━━━━━━━\u001b[0m\u001b[37m\u001b[0m \u001b[1m0s\u001b[0m 93ms/step - accuracy: 0.8249 - loss: 0.7693\n",
      "Epoch 29: val_accuracy did not improve from 0.91367\n",
      "\u001b[1m815/815\u001b[0m \u001b[32m━━━━━━━━━━━━━━━━━━━━\u001b[0m\u001b[37m\u001b[0m \u001b[1m89s\u001b[0m 109ms/step - accuracy: 0.8249 - loss: 0.7692 - val_accuracy: 0.8992 - val_loss: 0.5449\n",
      "Epoch 30/80\n",
      "\u001b[1m815/815\u001b[0m \u001b[32m━━━━━━━━━━━━━━━━━━━━\u001b[0m\u001b[37m\u001b[0m \u001b[1m0s\u001b[0m 93ms/step - accuracy: 0.8364 - loss: 0.7448\n",
      "Epoch 30: val_accuracy did not improve from 0.91367\n",
      "\u001b[1m815/815\u001b[0m \u001b[32m━━━━━━━━━━━━━━━━━━━━\u001b[0m\u001b[37m\u001b[0m \u001b[1m89s\u001b[0m 109ms/step - accuracy: 0.8364 - loss: 0.7448 - val_accuracy: 0.8999 - val_loss: 0.5520\n",
      "Epoch 31/80\n",
      "\u001b[1m815/815\u001b[0m \u001b[32m━━━━━━━━━━━━━━━━━━━━\u001b[0m\u001b[37m\u001b[0m \u001b[1m0s\u001b[0m 93ms/step - accuracy: 0.8212 - loss: 0.7556\n",
      "Epoch 31: val_accuracy did not improve from 0.91367\n",
      "\u001b[1m815/815\u001b[0m \u001b[32m━━━━━━━━━━━━━━━━━━━━\u001b[0m\u001b[37m\u001b[0m \u001b[1m89s\u001b[0m 109ms/step - accuracy: 0.8212 - loss: 0.7556 - val_accuracy: 0.9015 - val_loss: 0.5386\n",
      "Epoch 32/80\n",
      "\u001b[1m815/815\u001b[0m \u001b[32m━━━━━━━━━━━━━━━━━━━━\u001b[0m\u001b[37m\u001b[0m \u001b[1m0s\u001b[0m 93ms/step - accuracy: 0.8157 - loss: 0.7730\n",
      "Epoch 32: val_accuracy did not improve from 0.91367\n",
      "\u001b[1m815/815\u001b[0m \u001b[32m━━━━━━━━━━━━━━━━━━━━\u001b[0m\u001b[37m\u001b[0m \u001b[1m89s\u001b[0m 109ms/step - accuracy: 0.8157 - loss: 0.7730 - val_accuracy: 0.9106 - val_loss: 0.5138\n",
      "Epoch 33/80\n",
      "\u001b[1m815/815\u001b[0m \u001b[32m━━━━━━━━━━━━━━━━━━━━\u001b[0m\u001b[37m\u001b[0m \u001b[1m0s\u001b[0m 93ms/step - accuracy: 0.8333 - loss: 0.7464\n",
      "Epoch 33: val_accuracy did not improve from 0.91367\n",
      "\u001b[1m815/815\u001b[0m \u001b[32m━━━━━━━━━━━━━━━━━━━━\u001b[0m\u001b[37m\u001b[0m \u001b[1m89s\u001b[0m 109ms/step - accuracy: 0.8333 - loss: 0.7464 - val_accuracy: 0.9007 - val_loss: 0.5454\n",
      "Epoch 34/80\n",
      "\u001b[1m815/815\u001b[0m \u001b[32m━━━━━━━━━━━━━━━━━━━━\u001b[0m\u001b[37m\u001b[0m \u001b[1m0s\u001b[0m 93ms/step - accuracy: 0.8315 - loss: 0.7437\n",
      "Epoch 34: val_accuracy did not improve from 0.91367\n",
      "\u001b[1m815/815\u001b[0m \u001b[32m━━━━━━━━━━━━━━━━━━━━\u001b[0m\u001b[37m\u001b[0m \u001b[1m89s\u001b[0m 109ms/step - accuracy: 0.8315 - loss: 0.7437 - val_accuracy: 0.9015 - val_loss: 0.5335\n",
      "Epoch 35/80\n",
      "\u001b[1m815/815\u001b[0m \u001b[32m━━━━━━━━━━━━━━━━━━━━\u001b[0m\u001b[37m\u001b[0m \u001b[1m0s\u001b[0m 93ms/step - accuracy: 0.8359 - loss: 0.7371\n",
      "Epoch 35: val_accuracy did not improve from 0.91367\n",
      "\u001b[1m815/815\u001b[0m \u001b[32m━━━━━━━━━━━━━━━━━━━━\u001b[0m\u001b[37m\u001b[0m \u001b[1m89s\u001b[0m 109ms/step - accuracy: 0.8359 - loss: 0.7371 - val_accuracy: 0.9121 - val_loss: 0.5098\n",
      "Epoch 36/80\n",
      "\u001b[1m815/815\u001b[0m \u001b[32m━━━━━━━━━━━━━━━━━━━━\u001b[0m\u001b[37m\u001b[0m \u001b[1m0s\u001b[0m 93ms/step - accuracy: 0.8231 - loss: 0.7649\n",
      "Epoch 36: val_accuracy did not improve from 0.91367\n",
      "\u001b[1m815/815\u001b[0m \u001b[32m━━━━━━━━━━━━━━━━━━━━\u001b[0m\u001b[37m\u001b[0m \u001b[1m89s\u001b[0m 109ms/step - accuracy: 0.8231 - loss: 0.7649 - val_accuracy: 0.9053 - val_loss: 0.5271\n",
      "Epoch 37/80\n",
      "\u001b[1m815/815\u001b[0m \u001b[32m━━━━━━━━━━━━━━━━━━━━\u001b[0m\u001b[37m\u001b[0m \u001b[1m0s\u001b[0m 93ms/step - accuracy: 0.8217 - loss: 0.7771\n",
      "Epoch 37: val_accuracy did not improve from 0.91367\n",
      "\u001b[1m815/815\u001b[0m \u001b[32m━━━━━━━━━━━━━━━━━━━━\u001b[0m\u001b[37m\u001b[0m \u001b[1m89s\u001b[0m 109ms/step - accuracy: 0.8217 - loss: 0.7771 - val_accuracy: 0.9068 - val_loss: 0.5066\n",
      "Epoch 38/80\n",
      "\u001b[1m815/815\u001b[0m \u001b[32m━━━━━━━━━━━━━━━━━━━━\u001b[0m\u001b[37m\u001b[0m \u001b[1m0s\u001b[0m 93ms/step - accuracy: 0.8199 - loss: 0.7586\n",
      "Epoch 38: val_accuracy did not improve from 0.91367\n",
      "\u001b[1m815/815\u001b[0m \u001b[32m━━━━━━━━━━━━━━━━━━━━\u001b[0m\u001b[37m\u001b[0m \u001b[1m89s\u001b[0m 109ms/step - accuracy: 0.8200 - loss: 0.7586 - val_accuracy: 0.9129 - val_loss: 0.5142\n",
      "Epoch 39/80\n",
      "\u001b[1m815/815\u001b[0m \u001b[32m━━━━━━━━━━━━━━━━━━━━\u001b[0m\u001b[37m\u001b[0m \u001b[1m0s\u001b[0m 93ms/step - accuracy: 0.8170 - loss: 0.7564\n",
      "Epoch 39: val_accuracy did not improve from 0.91367\n",
      "\u001b[1m815/815\u001b[0m \u001b[32m━━━━━━━━━━━━━━━━━━━━\u001b[0m\u001b[37m\u001b[0m \u001b[1m89s\u001b[0m 109ms/step - accuracy: 0.8170 - loss: 0.7564 - val_accuracy: 0.9045 - val_loss: 0.5085\n",
      "Epoch 40/80\n",
      "\u001b[1m815/815\u001b[0m \u001b[32m━━━━━━━━━━━━━━━━━━━━\u001b[0m\u001b[37m\u001b[0m \u001b[1m0s\u001b[0m 93ms/step - accuracy: 0.8266 - loss: 0.7499\n",
      "Epoch 40: val_accuracy did not improve from 0.91367\n",
      "\u001b[1m815/815\u001b[0m \u001b[32m━━━━━━━━━━━━━━━━━━━━\u001b[0m\u001b[37m\u001b[0m \u001b[1m89s\u001b[0m 109ms/step - accuracy: 0.8266 - loss: 0.7499 - val_accuracy: 0.9037 - val_loss: 0.5192\n",
      "Epoch 41/80\n",
      "\u001b[1m815/815\u001b[0m \u001b[32m━━━━━━━━━━━━━━━━━━━━\u001b[0m\u001b[37m\u001b[0m \u001b[1m0s\u001b[0m 93ms/step - accuracy: 0.8335 - loss: 0.7299\n",
      "Epoch 41: val_accuracy did not improve from 0.91367\n",
      "\u001b[1m815/815\u001b[0m \u001b[32m━━━━━━━━━━━━━━━━━━━━\u001b[0m\u001b[37m\u001b[0m \u001b[1m89s\u001b[0m 109ms/step - accuracy: 0.8335 - loss: 0.7299 - val_accuracy: 0.9060 - val_loss: 0.5096\n",
      "Epoch 42/80\n",
      "\u001b[1m815/815\u001b[0m \u001b[32m━━━━━━━━━━━━━━━━━━━━\u001b[0m\u001b[37m\u001b[0m \u001b[1m0s\u001b[0m 93ms/step - accuracy: 0.8395 - loss: 0.7105\n",
      "Epoch 42: val_accuracy did not improve from 0.91367\n",
      "\u001b[1m815/815\u001b[0m \u001b[32m━━━━━━━━━━━━━━━━━━━━\u001b[0m\u001b[37m\u001b[0m \u001b[1m89s\u001b[0m 109ms/step - accuracy: 0.8395 - loss: 0.7105 - val_accuracy: 0.9045 - val_loss: 0.5174\n",
      "Epoch 43/80\n",
      "\u001b[1m815/815\u001b[0m \u001b[32m━━━━━━━━━━━━━━━━━━━━\u001b[0m\u001b[37m\u001b[0m \u001b[1m0s\u001b[0m 93ms/step - accuracy: 0.8336 - loss: 0.7143\n",
      "Epoch 43: val_accuracy did not improve from 0.91367\n",
      "\u001b[1m815/815\u001b[0m \u001b[32m━━━━━━━━━━━━━━━━━━━━\u001b[0m\u001b[37m\u001b[0m \u001b[1m89s\u001b[0m 109ms/step - accuracy: 0.8336 - loss: 0.7143 - val_accuracy: 0.9099 - val_loss: 0.5105\n",
      "Epoch 44/80\n",
      "\u001b[1m815/815\u001b[0m \u001b[32m━━━━━━━━━━━━━━━━━━━━\u001b[0m\u001b[37m\u001b[0m \u001b[1m0s\u001b[0m 93ms/step - accuracy: 0.8334 - loss: 0.7458\n",
      "Epoch 44: val_accuracy did not improve from 0.91367\n",
      "\u001b[1m815/815\u001b[0m \u001b[32m━━━━━━━━━━━━━━━━━━━━\u001b[0m\u001b[37m\u001b[0m \u001b[1m89s\u001b[0m 109ms/step - accuracy: 0.8334 - loss: 0.7458 - val_accuracy: 0.8992 - val_loss: 0.5227\n",
      "Epoch 45/80\n",
      "\u001b[1m815/815\u001b[0m \u001b[32m━━━━━━━━━━━━━━━━━━━━\u001b[0m\u001b[37m\u001b[0m \u001b[1m0s\u001b[0m 93ms/step - accuracy: 0.8233 - loss: 0.7378\n",
      "Epoch 45: val_accuracy did not improve from 0.91367\n",
      "\u001b[1m815/815\u001b[0m \u001b[32m━━━━━━━━━━━━━━━━━━━━\u001b[0m\u001b[37m\u001b[0m \u001b[1m89s\u001b[0m 109ms/step - accuracy: 0.8233 - loss: 0.7378 - val_accuracy: 0.9068 - val_loss: 0.5185\n",
      "Epoch 46/80\n",
      "\u001b[1m815/815\u001b[0m \u001b[32m━━━━━━━━━━━━━━━━━━━━\u001b[0m\u001b[37m\u001b[0m \u001b[1m0s\u001b[0m 93ms/step - accuracy: 0.8258 - loss: 0.7377\n",
      "Epoch 46: val_accuracy did not improve from 0.91367\n",
      "\u001b[1m815/815\u001b[0m \u001b[32m━━━━━━━━━━━━━━━━━━━━\u001b[0m\u001b[37m\u001b[0m \u001b[1m89s\u001b[0m 109ms/step - accuracy: 0.8258 - loss: 0.7377 - val_accuracy: 0.9076 - val_loss: 0.5168\n",
      "Epoch 47/80\n",
      "\u001b[1m815/815\u001b[0m \u001b[32m━━━━━━━━━━━━━━━━━━━━\u001b[0m\u001b[37m\u001b[0m \u001b[1m0s\u001b[0m 93ms/step - accuracy: 0.8316 - loss: 0.7288\n",
      "Epoch 47: val_accuracy did not improve from 0.91367\n",
      "\u001b[1m815/815\u001b[0m \u001b[32m━━━━━━━━━━━━━━━━━━━━\u001b[0m\u001b[37m\u001b[0m \u001b[1m89s\u001b[0m 109ms/step - accuracy: 0.8317 - loss: 0.7288 - val_accuracy: 0.9015 - val_loss: 0.5094\n",
      "Epoch 48/80\n",
      "\u001b[1m815/815\u001b[0m \u001b[32m━━━━━━━━━━━━━━━━━━━━\u001b[0m\u001b[37m\u001b[0m \u001b[1m0s\u001b[0m 93ms/step - accuracy: 0.8319 - loss: 0.7254\n",
      "Epoch 48: val_accuracy improved from 0.91367 to 0.91673, saving model to modelVGG19.keras\n",
      "\u001b[1m815/815\u001b[0m \u001b[32m━━━━━━━━━━━━━━━━━━━━\u001b[0m\u001b[37m\u001b[0m \u001b[1m90s\u001b[0m 110ms/step - accuracy: 0.8319 - loss: 0.7254 - val_accuracy: 0.9167 - val_loss: 0.5030\n",
      "Epoch 49/80\n",
      "\u001b[1m815/815\u001b[0m \u001b[32m━━━━━━━━━━━━━━━━━━━━\u001b[0m\u001b[37m\u001b[0m \u001b[1m0s\u001b[0m 93ms/step - accuracy: 0.8293 - loss: 0.7403\n",
      "Epoch 49: val_accuracy did not improve from 0.91673\n",
      "\u001b[1m815/815\u001b[0m \u001b[32m━━━━━━━━━━━━━━━━━━━━\u001b[0m\u001b[37m\u001b[0m \u001b[1m89s\u001b[0m 109ms/step - accuracy: 0.8293 - loss: 0.7403 - val_accuracy: 0.9045 - val_loss: 0.5067\n",
      "Epoch 50/80\n",
      "\u001b[1m815/815\u001b[0m \u001b[32m━━━━━━━━━━━━━━━━━━━━\u001b[0m\u001b[37m\u001b[0m \u001b[1m0s\u001b[0m 93ms/step - accuracy: 0.8300 - loss: 0.7431\n",
      "Epoch 50: val_accuracy did not improve from 0.91673\n",
      "\u001b[1m815/815\u001b[0m \u001b[32m━━━━━━━━━━━━━━━━━━━━\u001b[0m\u001b[37m\u001b[0m \u001b[1m89s\u001b[0m 109ms/step - accuracy: 0.8300 - loss: 0.7431 - val_accuracy: 0.9045 - val_loss: 0.4971\n",
      "Epoch 51/80\n",
      "\u001b[1m815/815\u001b[0m \u001b[32m━━━━━━━━━━━━━━━━━━━━\u001b[0m\u001b[37m\u001b[0m \u001b[1m0s\u001b[0m 93ms/step - accuracy: 0.8267 - loss: 0.7321\n",
      "Epoch 51: val_accuracy did not improve from 0.91673\n",
      "\u001b[1m815/815\u001b[0m \u001b[32m━━━━━━━━━━━━━━━━━━━━\u001b[0m\u001b[37m\u001b[0m \u001b[1m89s\u001b[0m 109ms/step - accuracy: 0.8268 - loss: 0.7321 - val_accuracy: 0.9007 - val_loss: 0.5252\n",
      "Epoch 52/80\n",
      "\u001b[1m815/815\u001b[0m \u001b[32m━━━━━━━━━━━━━━━━━━━━\u001b[0m\u001b[37m\u001b[0m \u001b[1m0s\u001b[0m 93ms/step - accuracy: 0.8243 - loss: 0.7287\n",
      "Epoch 52: val_accuracy did not improve from 0.91673\n",
      "\u001b[1m815/815\u001b[0m \u001b[32m━━━━━━━━━━━━━━━━━━━━\u001b[0m\u001b[37m\u001b[0m \u001b[1m89s\u001b[0m 109ms/step - accuracy: 0.8243 - loss: 0.7287 - val_accuracy: 0.9037 - val_loss: 0.5006\n",
      "Epoch 53/80\n",
      "\u001b[1m815/815\u001b[0m \u001b[32m━━━━━━━━━━━━━━━━━━━━\u001b[0m\u001b[37m\u001b[0m \u001b[1m0s\u001b[0m 93ms/step - accuracy: 0.8236 - loss: 0.7435\n",
      "Epoch 53: val_accuracy did not improve from 0.91673\n",
      "\u001b[1m815/815\u001b[0m \u001b[32m━━━━━━━━━━━━━━━━━━━━\u001b[0m\u001b[37m\u001b[0m \u001b[1m89s\u001b[0m 109ms/step - accuracy: 0.8236 - loss: 0.7434 - val_accuracy: 0.9015 - val_loss: 0.5108\n",
      "Epoch 54/80\n",
      "\u001b[1m815/815\u001b[0m \u001b[32m━━━━━━━━━━━━━━━━━━━━\u001b[0m\u001b[37m\u001b[0m \u001b[1m0s\u001b[0m 93ms/step - accuracy: 0.8351 - loss: 0.7185\n",
      "Epoch 54: val_accuracy did not improve from 0.91673\n",
      "\u001b[1m815/815\u001b[0m \u001b[32m━━━━━━━━━━━━━━━━━━━━\u001b[0m\u001b[37m\u001b[0m \u001b[1m89s\u001b[0m 109ms/step - accuracy: 0.8351 - loss: 0.7185 - val_accuracy: 0.8938 - val_loss: 0.5147\n",
      "Epoch 55/80\n",
      "\u001b[1m815/815\u001b[0m \u001b[32m━━━━━━━━━━━━━━━━━━━━\u001b[0m\u001b[37m\u001b[0m \u001b[1m0s\u001b[0m 93ms/step - accuracy: 0.8354 - loss: 0.7292\n",
      "Epoch 55: val_accuracy did not improve from 0.91673\n",
      "\u001b[1m815/815\u001b[0m \u001b[32m━━━━━━━━━━━━━━━━━━━━\u001b[0m\u001b[37m\u001b[0m \u001b[1m89s\u001b[0m 109ms/step - accuracy: 0.8354 - loss: 0.7292 - val_accuracy: 0.8999 - val_loss: 0.5123\n",
      "Epoch 56/80\n",
      "\u001b[1m815/815\u001b[0m \u001b[32m━━━━━━━━━━━━━━━━━━━━\u001b[0m\u001b[37m\u001b[0m \u001b[1m0s\u001b[0m 93ms/step - accuracy: 0.8185 - loss: 0.7351\n",
      "Epoch 56: val_accuracy did not improve from 0.91673\n",
      "\u001b[1m815/815\u001b[0m \u001b[32m━━━━━━━━━━━━━━━━━━━━\u001b[0m\u001b[37m\u001b[0m \u001b[1m89s\u001b[0m 109ms/step - accuracy: 0.8185 - loss: 0.7351 - val_accuracy: 0.9091 - val_loss: 0.4973\n",
      "Epoch 57/80\n",
      "\u001b[1m815/815\u001b[0m \u001b[32m━━━━━━━━━━━━━━━━━━━━\u001b[0m\u001b[37m\u001b[0m \u001b[1m0s\u001b[0m 93ms/step - accuracy: 0.8267 - loss: 0.7353\n",
      "Epoch 57: val_accuracy did not improve from 0.91673\n",
      "\u001b[1m815/815\u001b[0m \u001b[32m━━━━━━━━━━━━━━━━━━━━\u001b[0m\u001b[37m\u001b[0m \u001b[1m89s\u001b[0m 109ms/step - accuracy: 0.8267 - loss: 0.7353 - val_accuracy: 0.9037 - val_loss: 0.5095\n",
      "Epoch 58/80\n",
      "\u001b[1m815/815\u001b[0m \u001b[32m━━━━━━━━━━━━━━━━━━━━\u001b[0m\u001b[37m\u001b[0m \u001b[1m0s\u001b[0m 93ms/step - accuracy: 0.8241 - loss: 0.7286\n",
      "Epoch 58: val_accuracy did not improve from 0.91673\n",
      "\u001b[1m815/815\u001b[0m \u001b[32m━━━━━━━━━━━━━━━━━━━━\u001b[0m\u001b[37m\u001b[0m \u001b[1m89s\u001b[0m 109ms/step - accuracy: 0.8241 - loss: 0.7286 - val_accuracy: 0.8984 - val_loss: 0.5302\n",
      "Epoch 59/80\n",
      "\u001b[1m815/815\u001b[0m \u001b[32m━━━━━━━━━━━━━━━━━━━━\u001b[0m\u001b[37m\u001b[0m \u001b[1m0s\u001b[0m 93ms/step - accuracy: 0.8242 - loss: 0.7233\n",
      "Epoch 59: val_accuracy did not improve from 0.91673\n",
      "\u001b[1m815/815\u001b[0m \u001b[32m━━━━━━━━━━━━━━━━━━━━\u001b[0m\u001b[37m\u001b[0m \u001b[1m89s\u001b[0m 109ms/step - accuracy: 0.8242 - loss: 0.7233 - val_accuracy: 0.9015 - val_loss: 0.5002\n",
      "Epoch 60/80\n",
      "\u001b[1m815/815\u001b[0m \u001b[32m━━━━━━━━━━━━━━━━━━━━\u001b[0m\u001b[37m\u001b[0m \u001b[1m0s\u001b[0m 93ms/step - accuracy: 0.8327 - loss: 0.7058\n",
      "Epoch 60: val_accuracy did not improve from 0.91673\n",
      "\u001b[1m815/815\u001b[0m \u001b[32m━━━━━━━━━━━━━━━━━━━━\u001b[0m\u001b[37m\u001b[0m \u001b[1m89s\u001b[0m 109ms/step - accuracy: 0.8327 - loss: 0.7058 - val_accuracy: 0.9083 - val_loss: 0.4956\n",
      "Epoch 61/80\n",
      "\u001b[1m815/815\u001b[0m \u001b[32m━━━━━━━━━━━━━━━━━━━━\u001b[0m\u001b[37m\u001b[0m \u001b[1m0s\u001b[0m 93ms/step - accuracy: 0.8396 - loss: 0.7140\n",
      "Epoch 61: val_accuracy did not improve from 0.91673\n",
      "\u001b[1m815/815\u001b[0m \u001b[32m━━━━━━━━━━━━━━━━━━━━\u001b[0m\u001b[37m\u001b[0m \u001b[1m89s\u001b[0m 109ms/step - accuracy: 0.8396 - loss: 0.7140 - val_accuracy: 0.9053 - val_loss: 0.4920\n",
      "Epoch 62/80\n",
      "\u001b[1m815/815\u001b[0m \u001b[32m━━━━━━━━━━━━━━━━━━━━\u001b[0m\u001b[37m\u001b[0m \u001b[1m0s\u001b[0m 93ms/step - accuracy: 0.8295 - loss: 0.7329\n",
      "Epoch 62: val_accuracy did not improve from 0.91673\n",
      "\u001b[1m815/815\u001b[0m \u001b[32m━━━━━━━━━━━━━━━━━━━━\u001b[0m\u001b[37m\u001b[0m \u001b[1m89s\u001b[0m 109ms/step - accuracy: 0.8295 - loss: 0.7329 - val_accuracy: 0.9060 - val_loss: 0.5090\n",
      "Epoch 63/80\n",
      "\u001b[1m815/815\u001b[0m \u001b[32m━━━━━━━━━━━━━━━━━━━━\u001b[0m\u001b[37m\u001b[0m \u001b[1m0s\u001b[0m 93ms/step - accuracy: 0.8364 - loss: 0.7090\n",
      "Epoch 63: val_accuracy did not improve from 0.91673\n",
      "\u001b[1m815/815\u001b[0m \u001b[32m━━━━━━━━━━━━━━━━━━━━\u001b[0m\u001b[37m\u001b[0m \u001b[1m89s\u001b[0m 109ms/step - accuracy: 0.8364 - loss: 0.7090 - val_accuracy: 0.9114 - val_loss: 0.4850\n",
      "Epoch 64/80\n",
      "\u001b[1m815/815\u001b[0m \u001b[32m━━━━━━━━━━━━━━━━━━━━\u001b[0m\u001b[37m\u001b[0m \u001b[1m0s\u001b[0m 93ms/step - accuracy: 0.8234 - loss: 0.7271\n",
      "Epoch 64: val_accuracy did not improve from 0.91673\n",
      "\u001b[1m815/815\u001b[0m \u001b[32m━━━━━━━━━━━━━━━━━━━━\u001b[0m\u001b[37m\u001b[0m \u001b[1m89s\u001b[0m 109ms/step - accuracy: 0.8234 - loss: 0.7271 - val_accuracy: 0.9114 - val_loss: 0.4881\n",
      "Epoch 65/80\n",
      "\u001b[1m815/815\u001b[0m \u001b[32m━━━━━━━━━━━━━━━━━━━━\u001b[0m\u001b[37m\u001b[0m \u001b[1m0s\u001b[0m 93ms/step - accuracy: 0.8342 - loss: 0.7187\n",
      "Epoch 65: val_accuracy did not improve from 0.91673\n",
      "\u001b[1m815/815\u001b[0m \u001b[32m━━━━━━━━━━━━━━━━━━━━\u001b[0m\u001b[37m\u001b[0m \u001b[1m89s\u001b[0m 109ms/step - accuracy: 0.8342 - loss: 0.7187 - val_accuracy: 0.9076 - val_loss: 0.4919\n",
      "Epoch 66/80\n",
      "\u001b[1m815/815\u001b[0m \u001b[32m━━━━━━━━━━━━━━━━━━━━\u001b[0m\u001b[37m\u001b[0m \u001b[1m0s\u001b[0m 93ms/step - accuracy: 0.8364 - loss: 0.7097\n",
      "Epoch 66: val_accuracy did not improve from 0.91673\n",
      "\u001b[1m815/815\u001b[0m \u001b[32m━━━━━━━━━━━━━━━━━━━━\u001b[0m\u001b[37m\u001b[0m \u001b[1m89s\u001b[0m 109ms/step - accuracy: 0.8364 - loss: 0.7097 - val_accuracy: 0.9053 - val_loss: 0.5081\n",
      "Epoch 67/80\n",
      "\u001b[1m815/815\u001b[0m \u001b[32m━━━━━━━━━━━━━━━━━━━━\u001b[0m\u001b[37m\u001b[0m \u001b[1m0s\u001b[0m 93ms/step - accuracy: 0.8149 - loss: 0.7482\n",
      "Epoch 67: val_accuracy did not improve from 0.91673\n",
      "\u001b[1m815/815\u001b[0m \u001b[32m━━━━━━━━━━━━━━━━━━━━\u001b[0m\u001b[37m\u001b[0m \u001b[1m89s\u001b[0m 109ms/step - accuracy: 0.8149 - loss: 0.7481 - val_accuracy: 0.9076 - val_loss: 0.4961\n",
      "Epoch 68/80\n",
      "\u001b[1m815/815\u001b[0m \u001b[32m━━━━━━━━━━━━━━━━━━━━\u001b[0m\u001b[37m\u001b[0m \u001b[1m0s\u001b[0m 93ms/step - accuracy: 0.8291 - loss: 0.7347\n",
      "Epoch 68: val_accuracy did not improve from 0.91673\n",
      "\u001b[1m815/815\u001b[0m \u001b[32m━━━━━━━━━━━━━━━━━━━━\u001b[0m\u001b[37m\u001b[0m \u001b[1m89s\u001b[0m 109ms/step - accuracy: 0.8291 - loss: 0.7347 - val_accuracy: 0.9045 - val_loss: 0.5022\n",
      "Epoch 69/80\n",
      "\u001b[1m815/815\u001b[0m \u001b[32m━━━━━━━━━━━━━━━━━━━━\u001b[0m\u001b[37m\u001b[0m \u001b[1m0s\u001b[0m 93ms/step - accuracy: 0.8424 - loss: 0.6870\n",
      "Epoch 69: val_accuracy did not improve from 0.91673\n",
      "\u001b[1m815/815\u001b[0m \u001b[32m━━━━━━━━━━━━━━━━━━━━\u001b[0m\u001b[37m\u001b[0m \u001b[1m89s\u001b[0m 109ms/step - accuracy: 0.8424 - loss: 0.6870 - val_accuracy: 0.9053 - val_loss: 0.4989\n",
      "Epoch 70/80\n",
      "\u001b[1m815/815\u001b[0m \u001b[32m━━━━━━━━━━━━━━━━━━━━\u001b[0m\u001b[37m\u001b[0m \u001b[1m0s\u001b[0m 93ms/step - accuracy: 0.8280 - loss: 0.7147\n",
      "Epoch 70: val_accuracy did not improve from 0.91673\n",
      "\u001b[1m815/815\u001b[0m \u001b[32m━━━━━━━━━━━━━━━━━━━━\u001b[0m\u001b[37m\u001b[0m \u001b[1m89s\u001b[0m 109ms/step - accuracy: 0.8280 - loss: 0.7147 - val_accuracy: 0.8999 - val_loss: 0.5140\n",
      "Epoch 71/80\n",
      "\u001b[1m815/815\u001b[0m \u001b[32m━━━━━━━━━━━━━━━━━━━━\u001b[0m\u001b[37m\u001b[0m \u001b[1m0s\u001b[0m 94ms/step - accuracy: 0.8216 - loss: 0.7251\n",
      "Epoch 71: val_accuracy did not improve from 0.91673\n",
      "\u001b[1m815/815\u001b[0m \u001b[32m━━━━━━━━━━━━━━━━━━━━\u001b[0m\u001b[37m\u001b[0m \u001b[1m90s\u001b[0m 111ms/step - accuracy: 0.8216 - loss: 0.7251 - val_accuracy: 0.9037 - val_loss: 0.5030\n",
      "Epoch 72/80\n",
      "\u001b[1m815/815\u001b[0m \u001b[32m━━━━━━━━━━━━━━━━━━━━\u001b[0m\u001b[37m\u001b[0m \u001b[1m0s\u001b[0m 93ms/step - accuracy: 0.8239 - loss: 0.7332\n",
      "Epoch 72: val_accuracy improved from 0.91673 to 0.91749, saving model to modelVGG19.keras\n",
      "\u001b[1m815/815\u001b[0m \u001b[32m━━━━━━━━━━━━━━━━━━━━\u001b[0m\u001b[37m\u001b[0m \u001b[1m90s\u001b[0m 110ms/step - accuracy: 0.8239 - loss: 0.7332 - val_accuracy: 0.9175 - val_loss: 0.4780\n",
      "Epoch 73/80\n",
      "\u001b[1m815/815\u001b[0m \u001b[32m━━━━━━━━━━━━━━━━━━━━\u001b[0m\u001b[37m\u001b[0m \u001b[1m0s\u001b[0m 94ms/step - accuracy: 0.8302 - loss: 0.7187\n",
      "Epoch 73: val_accuracy did not improve from 0.91749\n",
      "\u001b[1m815/815\u001b[0m \u001b[32m━━━━━━━━━━━━━━━━━━━━\u001b[0m\u001b[37m\u001b[0m \u001b[1m89s\u001b[0m 110ms/step - accuracy: 0.8302 - loss: 0.7187 - val_accuracy: 0.8938 - val_loss: 0.5026\n",
      "Epoch 74/80\n",
      "\u001b[1m815/815\u001b[0m \u001b[32m━━━━━━━━━━━━━━━━━━━━\u001b[0m\u001b[37m\u001b[0m \u001b[1m0s\u001b[0m 93ms/step - accuracy: 0.8253 - loss: 0.7308\n",
      "Epoch 74: val_accuracy did not improve from 0.91749\n",
      "\u001b[1m815/815\u001b[0m \u001b[32m━━━━━━━━━━━━━━━━━━━━\u001b[0m\u001b[37m\u001b[0m \u001b[1m89s\u001b[0m 110ms/step - accuracy: 0.8254 - loss: 0.7308 - val_accuracy: 0.9068 - val_loss: 0.4783\n",
      "Epoch 75/80\n",
      "\u001b[1m815/815\u001b[0m \u001b[32m━━━━━━━━━━━━━━━━━━━━\u001b[0m\u001b[37m\u001b[0m \u001b[1m0s\u001b[0m 93ms/step - accuracy: 0.8311 - loss: 0.7173\n",
      "Epoch 75: val_accuracy did not improve from 0.91749\n",
      "\u001b[1m815/815\u001b[0m \u001b[32m━━━━━━━━━━━━━━━━━━━━\u001b[0m\u001b[37m\u001b[0m \u001b[1m89s\u001b[0m 110ms/step - accuracy: 0.8311 - loss: 0.7173 - val_accuracy: 0.9114 - val_loss: 0.4801\n",
      "Epoch 76/80\n",
      "\u001b[1m815/815\u001b[0m \u001b[32m━━━━━━━━━━━━━━━━━━━━\u001b[0m\u001b[37m\u001b[0m \u001b[1m0s\u001b[0m 93ms/step - accuracy: 0.8320 - loss: 0.7057\n",
      "Epoch 76: val_accuracy did not improve from 0.91749\n",
      "\u001b[1m815/815\u001b[0m \u001b[32m━━━━━━━━━━━━━━━━━━━━\u001b[0m\u001b[37m\u001b[0m \u001b[1m89s\u001b[0m 110ms/step - accuracy: 0.8319 - loss: 0.7057 - val_accuracy: 0.9015 - val_loss: 0.4781\n",
      "Epoch 77/80\n",
      "\u001b[1m815/815\u001b[0m \u001b[32m━━━━━━━━━━━━━━━━━━━━\u001b[0m\u001b[37m\u001b[0m \u001b[1m0s\u001b[0m 93ms/step - accuracy: 0.8347 - loss: 0.6975\n",
      "Epoch 77: val_accuracy did not improve from 0.91749\n",
      "\u001b[1m815/815\u001b[0m \u001b[32m━━━━━━━━━━━━━━━━━━━━\u001b[0m\u001b[37m\u001b[0m \u001b[1m89s\u001b[0m 109ms/step - accuracy: 0.8347 - loss: 0.6975 - val_accuracy: 0.9076 - val_loss: 0.4808\n",
      "Epoch 78/80\n",
      "\u001b[1m815/815\u001b[0m \u001b[32m━━━━━━━━━━━━━━━━━━━━\u001b[0m\u001b[37m\u001b[0m \u001b[1m0s\u001b[0m 93ms/step - accuracy: 0.8322 - loss: 0.7111\n",
      "Epoch 78: val_accuracy did not improve from 0.91749\n",
      "\u001b[1m815/815\u001b[0m \u001b[32m━━━━━━━━━━━━━━━━━━━━\u001b[0m\u001b[37m\u001b[0m \u001b[1m89s\u001b[0m 109ms/step - accuracy: 0.8322 - loss: 0.7111 - val_accuracy: 0.9007 - val_loss: 0.4990\n",
      "Epoch 79/80\n",
      "\u001b[1m815/815\u001b[0m \u001b[32m━━━━━━━━━━━━━━━━━━━━\u001b[0m\u001b[37m\u001b[0m \u001b[1m0s\u001b[0m 93ms/step - accuracy: 0.8228 - loss: 0.7242\n",
      "Epoch 79: val_accuracy did not improve from 0.91749\n",
      "\u001b[1m815/815\u001b[0m \u001b[32m━━━━━━━━━━━━━━━━━━━━\u001b[0m\u001b[37m\u001b[0m \u001b[1m89s\u001b[0m 109ms/step - accuracy: 0.8228 - loss: 0.7242 - val_accuracy: 0.9121 - val_loss: 0.4810\n",
      "Epoch 80/80\n",
      "\u001b[1m815/815\u001b[0m \u001b[32m━━━━━━━━━━━━━━━━━━━━\u001b[0m\u001b[37m\u001b[0m \u001b[1m0s\u001b[0m 93ms/step - accuracy: 0.8357 - loss: 0.7250\n",
      "Epoch 80: val_accuracy did not improve from 0.91749\n",
      "\u001b[1m815/815\u001b[0m \u001b[32m━━━━━━━━━━━━━━━━━━━━\u001b[0m\u001b[37m\u001b[0m \u001b[1m89s\u001b[0m 109ms/step - accuracy: 0.8357 - loss: 0.7249 - val_accuracy: 0.8953 - val_loss: 0.5154\n",
      "Training complete in 7118.35 seconds (1h 58m 38.35s).\n",
      "Training complete.\n"
     ]
    }
   ],
   "source": [
    "initial_epochs = 80\n",
    "\n",
    "callbacks_list = [ModelCheckpoint(filepath='modelVGG19.keras', monitor='val_accuracy',\n",
    "                                   verbose=1, save_best_only=True, save_weights_only=False, mode='max')]\n",
    "csv_logger = CSVLogger('modeltrainingVGG19.log', separator=',', append=False)\n",
    "\n",
    "start_time = time.time()\n",
    "\n",
    "# Train the model on the training set\n",
    "history = model.fit(train_ds,\n",
    "                    epochs=initial_epochs,\n",
    "                    validation_data=(valid_ds),\n",
    "                    callbacks=(callbacks_list+[csv_logger]))\n",
    "\n",
    "end_time = time.time()\n",
    "\n",
    "duration = end_time - start_time\n",
    "\n",
    "hours, rem = divmod(duration, 3600)\n",
    "minutes, seconds = divmod(rem, 60)\n",
    "print(f\"Training complete in {duration:.2f} seconds ({int(hours)}h {int(minutes)}m {seconds:.2f}s).\")\n",
    "\n",
    "print(\"Training complete.\")"
   ]
  },
  {
   "cell_type": "markdown",
   "id": "87c370e3-8b54-449e-bfdb-c3d9fc00a13e",
   "metadata": {},
   "source": [
    "### Training and Validation Metrics Visualization\n",
    "\n",
    "This code cell plots the training and validation accuracy and loss over the epochs to help visualize model performance and convergence.\n"
   ]
  },
  {
   "cell_type": "code",
   "execution_count": 13,
   "id": "b2ae0c67-2c3c-40f4-b11f-b1ea95057281",
   "metadata": {},
   "outputs": [
    {
     "data": {
      "image/png": "[encoded data removed]",
      "text/plain": [
       "<Figure size 1000x1000 with 2 Axes>"
      ]
     },
     "metadata": {},
     "output_type": "display_data"
    }
   ],
   "source": [
    "acc = history.history['accuracy']\n",
    "val_acc = history.history['val_accuracy']\n",
    "\n",
    "loss = history.history['loss']\n",
    "val_loss = history.history['val_loss']\n",
    "\n",
    "plt.figure(figsize=(10, 10))\n",
    "plt.subplot(2, 1, 1)\n",
    "plt.plot(acc, label='Training Accuracy')\n",
    "plt.plot(val_acc, label='Validation Accuracy')\n",
    "plt.legend(loc='lower right')\n",
    "plt.ylabel('Accuracy')\n",
    "plt.ylim([min(plt.ylim()),1])\n",
    "plt.title('Training and Validation Accuracy')\n",
    "\n",
    "plt.subplot(2, 1, 2)\n",
    "plt.plot(loss, label='Training Loss')\n",
    "plt.plot(val_loss, label='Validation Loss')\n",
    "plt.legend(loc='upper right')\n",
    "plt.ylabel('Cross Entropy')\n",
    "plt.ylim([0,10.0])\n",
    "plt.title('Training and Validation Loss')\n",
    "plt.xlabel('epoch')\n",
    "plt.show()"
   ]
  },
  {
   "cell_type": "markdown",
   "id": "a809325a-863a-4031-9577-d3b699e860dc",
   "metadata": {},
   "source": [
    "### Fine-Tuning the Base Model and Compiling the Model\n",
    "\n",
    "\n",
    "- Setting `base_model.trainable = True` allows all layers in the pre-trained base model to be trainable, enabling fine-tuning of the entire network.\n",
    "- The model is compiled with the following configurations:\n",
    "  - **Loss function:** `sparse_categorical_crossentropy` is used for multi-class classification tasks where the labels are integers.\n",
    "  - **Optimizer:** Adam optimizer with a learning rate of `1e-4` is chosen to provide a balance between learning speed and stability during fine-tuning.\n",
    "  - **Metrics:** Accuracy is used to evaluate the model’s performance during training and validation.\n",
    "- Calling `model.summary()` outputs a detailed summary of the model architecture, including layer types, output shapes, and the number of parameters (both trainable and non-trainable)."
   ]
  },
  {
   "cell_type": "code",
   "execution_count": 14,
   "id": "d9982bf8-774d-464f-8a1f-bfd74d40a179",
   "metadata": {},
   "outputs": [
    {
     "name": "stdout",
     "output_type": "stream",
     "text": [
      "Number of layers in the base model:  22\n"
     ]
    },
    {
     "data": {
      "text/html": [
       "<pre style=\"white-space:pre;overflow-x:auto;line-height:normal;font-family:Menlo,'DejaVu Sans Mono',consolas,'Courier New',monospace\"><span style=\"font-weight: bold\">Model: \"functional_1\"</span>\n",
       "</pre>\n"
      ],
      "text/plain": [
       "\u001b[1mModel: \"functional_1\"\u001b[0m\n"
      ]
     },
     "metadata": {},
     "output_type": "display_data"
    },
    {
     "data": {
      "text/html": [
       "<pre style=\"white-space:pre;overflow-x:auto;line-height:normal;font-family:Menlo,'DejaVu Sans Mono',consolas,'Courier New',monospace\">┏━━━━━━━━━━━━━━━━━━━━━━━━━━━━━━━━━┳━━━━━━━━━━━━━━━━━━━━━━━━┳━━━━━━━━━━━━━━━┓\n",
       "┃<span style=\"font-weight: bold\"> Layer (type)                    </span>┃<span style=\"font-weight: bold\"> Output Shape           </span>┃<span style=\"font-weight: bold\">       Param # </span>┃\n",
       "┡━━━━━━━━━━━━━━━━━━━━━━━━━━━━━━━━━╇━━━━━━━━━━━━━━━━━━━━━━━━╇━━━━━━━━━━━━━━━┩\n",
       "│ input_layer_1 (<span style=\"color: #0087ff; text-decoration-color: #0087ff\">InputLayer</span>)      │ (<span style=\"color: #00d7ff; text-decoration-color: #00d7ff\">None</span>, <span style=\"color: #00af00; text-decoration-color: #00af00\">224</span>, <span style=\"color: #00af00; text-decoration-color: #00af00\">224</span>, <span style=\"color: #00af00; text-decoration-color: #00af00\">3</span>)    │             <span style=\"color: #00af00; text-decoration-color: #00af00\">0</span> │\n",
       "├─────────────────────────────────┼────────────────────────┼───────────────┤\n",
       "│ sequential (<span style=\"color: #0087ff; text-decoration-color: #0087ff\">Sequential</span>)         │ (<span style=\"color: #00d7ff; text-decoration-color: #00d7ff\">None</span>, <span style=\"color: #00af00; text-decoration-color: #00af00\">224</span>, <span style=\"color: #00af00; text-decoration-color: #00af00\">224</span>, <span style=\"color: #00af00; text-decoration-color: #00af00\">3</span>)    │             <span style=\"color: #00af00; text-decoration-color: #00af00\">0</span> │\n",
       "├─────────────────────────────────┼────────────────────────┼───────────────┤\n",
       "│ vgg19 (<span style=\"color: #0087ff; text-decoration-color: #0087ff\">Functional</span>)              │ (<span style=\"color: #00d7ff; text-decoration-color: #00d7ff\">None</span>, <span style=\"color: #00af00; text-decoration-color: #00af00\">7</span>, <span style=\"color: #00af00; text-decoration-color: #00af00\">7</span>, <span style=\"color: #00af00; text-decoration-color: #00af00\">512</span>)      │    <span style=\"color: #00af00; text-decoration-color: #00af00\">20,024,384</span> │\n",
       "├─────────────────────────────────┼────────────────────────┼───────────────┤\n",
       "│ global_average_pooling2d        │ (<span style=\"color: #00d7ff; text-decoration-color: #00d7ff\">None</span>, <span style=\"color: #00af00; text-decoration-color: #00af00\">512</span>)            │             <span style=\"color: #00af00; text-decoration-color: #00af00\">0</span> │\n",
       "│ (<span style=\"color: #0087ff; text-decoration-color: #0087ff\">GlobalAveragePooling2D</span>)        │                        │               │\n",
       "├─────────────────────────────────┼────────────────────────┼───────────────┤\n",
       "│ batch_normalization             │ (<span style=\"color: #00d7ff; text-decoration-color: #00d7ff\">None</span>, <span style=\"color: #00af00; text-decoration-color: #00af00\">512</span>)            │         <span style=\"color: #00af00; text-decoration-color: #00af00\">2,048</span> │\n",
       "│ (<span style=\"color: #0087ff; text-decoration-color: #0087ff\">BatchNormalization</span>)            │                        │               │\n",
       "├─────────────────────────────────┼────────────────────────┼───────────────┤\n",
       "│ dense (<span style=\"color: #0087ff; text-decoration-color: #0087ff\">Dense</span>)                   │ (<span style=\"color: #00d7ff; text-decoration-color: #00d7ff\">None</span>, <span style=\"color: #00af00; text-decoration-color: #00af00\">1024</span>)           │       <span style=\"color: #00af00; text-decoration-color: #00af00\">525,312</span> │\n",
       "├─────────────────────────────────┼────────────────────────┼───────────────┤\n",
       "│ dropout (<span style=\"color: #0087ff; text-decoration-color: #0087ff\">Dropout</span>)               │ (<span style=\"color: #00d7ff; text-decoration-color: #00d7ff\">None</span>, <span style=\"color: #00af00; text-decoration-color: #00af00\">1024</span>)           │             <span style=\"color: #00af00; text-decoration-color: #00af00\">0</span> │\n",
       "├─────────────────────────────────┼────────────────────────┼───────────────┤\n",
       "│ dense_1 (<span style=\"color: #0087ff; text-decoration-color: #0087ff\">Dense</span>)                 │ (<span style=\"color: #00d7ff; text-decoration-color: #00d7ff\">None</span>, <span style=\"color: #00af00; text-decoration-color: #00af00\">512</span>)            │       <span style=\"color: #00af00; text-decoration-color: #00af00\">524,800</span> │\n",
       "├─────────────────────────────────┼────────────────────────┼───────────────┤\n",
       "│ dropout_1 (<span style=\"color: #0087ff; text-decoration-color: #0087ff\">Dropout</span>)             │ (<span style=\"color: #00d7ff; text-decoration-color: #00d7ff\">None</span>, <span style=\"color: #00af00; text-decoration-color: #00af00\">512</span>)            │             <span style=\"color: #00af00; text-decoration-color: #00af00\">0</span> │\n",
       "├─────────────────────────────────┼────────────────────────┼───────────────┤\n",
       "│ dense_2 (<span style=\"color: #0087ff; text-decoration-color: #0087ff\">Dense</span>)                 │ (<span style=\"color: #00d7ff; text-decoration-color: #00d7ff\">None</span>, <span style=\"color: #00af00; text-decoration-color: #00af00\">4</span>)              │         <span style=\"color: #00af00; text-decoration-color: #00af00\">2,052</span> │\n",
       "└─────────────────────────────────┴────────────────────────┴───────────────┘\n",
       "</pre>\n"
      ],
      "text/plain": [
       "┏━━━━━━━━━━━━━━━━━━━━━━━━━━━━━━━━━┳━━━━━━━━━━━━━━━━━━━━━━━━┳━━━━━━━━━━━━━━━┓\n",
       "┃\u001b[1m \u001b[0m\u001b[1mLayer (type)                   \u001b[0m\u001b[1m \u001b[0m┃\u001b[1m \u001b[0m\u001b[1mOutput Shape          \u001b[0m\u001b[1m \u001b[0m┃\u001b[1m \u001b[0m\u001b[1m      Param #\u001b[0m\u001b[1m \u001b[0m┃\n",
       "┡━━━━━━━━━━━━━━━━━━━━━━━━━━━━━━━━━╇━━━━━━━━━━━━━━━━━━━━━━━━╇━━━━━━━━━━━━━━━┩\n",
       "│ input_layer_1 (\u001b[38;5;33mInputLayer\u001b[0m)      │ (\u001b[38;5;45mNone\u001b[0m, \u001b[38;5;34m224\u001b[0m, \u001b[38;5;34m224\u001b[0m, \u001b[38;5;34m3\u001b[0m)    │             \u001b[38;5;34m0\u001b[0m │\n",
       "├─────────────────────────────────┼────────────────────────┼───────────────┤\n",
       "│ sequential (\u001b[38;5;33mSequential\u001b[0m)         │ (\u001b[38;5;45mNone\u001b[0m, \u001b[38;5;34m224\u001b[0m, \u001b[38;5;34m224\u001b[0m, \u001b[38;5;34m3\u001b[0m)    │             \u001b[38;5;34m0\u001b[0m │\n",
       "├─────────────────────────────────┼────────────────────────┼───────────────┤\n",
       "│ vgg19 (\u001b[38;5;33mFunctional\u001b[0m)              │ (\u001b[38;5;45mNone\u001b[0m, \u001b[38;5;34m7\u001b[0m, \u001b[38;5;34m7\u001b[0m, \u001b[38;5;34m512\u001b[0m)      │    \u001b[38;5;34m20,024,384\u001b[0m │\n",
       "├─────────────────────────────────┼────────────────────────┼───────────────┤\n",
       "│ global_average_pooling2d        │ (\u001b[38;5;45mNone\u001b[0m, \u001b[38;5;34m512\u001b[0m)            │             \u001b[38;5;34m0\u001b[0m │\n",
       "│ (\u001b[38;5;33mGlobalAveragePooling2D\u001b[0m)        │                        │               │\n",
       "├─────────────────────────────────┼────────────────────────┼───────────────┤\n",
       "│ batch_normalization             │ (\u001b[38;5;45mNone\u001b[0m, \u001b[38;5;34m512\u001b[0m)            │         \u001b[38;5;34m2,048\u001b[0m │\n",
       "│ (\u001b[38;5;33mBatchNormalization\u001b[0m)            │                        │               │\n",
       "├─────────────────────────────────┼────────────────────────┼───────────────┤\n",
       "│ dense (\u001b[38;5;33mDense\u001b[0m)                   │ (\u001b[38;5;45mNone\u001b[0m, \u001b[38;5;34m1024\u001b[0m)           │       \u001b[38;5;34m525,312\u001b[0m │\n",
       "├─────────────────────────────────┼────────────────────────┼───────────────┤\n",
       "│ dropout (\u001b[38;5;33mDropout\u001b[0m)               │ (\u001b[38;5;45mNone\u001b[0m, \u001b[38;5;34m1024\u001b[0m)           │             \u001b[38;5;34m0\u001b[0m │\n",
       "├─────────────────────────────────┼────────────────────────┼───────────────┤\n",
       "│ dense_1 (\u001b[38;5;33mDense\u001b[0m)                 │ (\u001b[38;5;45mNone\u001b[0m, \u001b[38;5;34m512\u001b[0m)            │       \u001b[38;5;34m524,800\u001b[0m │\n",
       "├─────────────────────────────────┼────────────────────────┼───────────────┤\n",
       "│ dropout_1 (\u001b[38;5;33mDropout\u001b[0m)             │ (\u001b[38;5;45mNone\u001b[0m, \u001b[38;5;34m512\u001b[0m)            │             \u001b[38;5;34m0\u001b[0m │\n",
       "├─────────────────────────────────┼────────────────────────┼───────────────┤\n",
       "│ dense_2 (\u001b[38;5;33mDense\u001b[0m)                 │ (\u001b[38;5;45mNone\u001b[0m, \u001b[38;5;34m4\u001b[0m)              │         \u001b[38;5;34m2,052\u001b[0m │\n",
       "└─────────────────────────────────┴────────────────────────┴───────────────┘\n"
      ]
     },
     "metadata": {},
     "output_type": "display_data"
    },
    {
     "data": {
      "text/html": [
       "<pre style=\"white-space:pre;overflow-x:auto;line-height:normal;font-family:Menlo,'DejaVu Sans Mono',consolas,'Courier New',monospace\"><span style=\"font-weight: bold\"> Total params: </span><span style=\"color: #00af00; text-decoration-color: #00af00\">21,078,596</span> (80.41 MB)\n",
       "</pre>\n"
      ],
      "text/plain": [
       "\u001b[1m Total params: \u001b[0m\u001b[38;5;34m21,078,596\u001b[0m (80.41 MB)\n"
      ]
     },
     "metadata": {},
     "output_type": "display_data"
    },
    {
     "data": {
      "text/html": [
       "<pre style=\"white-space:pre;overflow-x:auto;line-height:normal;font-family:Menlo,'DejaVu Sans Mono',consolas,'Courier New',monospace\"><span style=\"font-weight: bold\"> Trainable params: </span><span style=\"color: #00af00; text-decoration-color: #00af00\">21,077,572</span> (80.40 MB)\n",
       "</pre>\n"
      ],
      "text/plain": [
       "\u001b[1m Trainable params: \u001b[0m\u001b[38;5;34m21,077,572\u001b[0m (80.40 MB)\n"
      ]
     },
     "metadata": {},
     "output_type": "display_data"
    },
    {
     "data": {
      "text/html": [
       "<pre style=\"white-space:pre;overflow-x:auto;line-height:normal;font-family:Menlo,'DejaVu Sans Mono',consolas,'Courier New',monospace\"><span style=\"font-weight: bold\"> Non-trainable params: </span><span style=\"color: #00af00; text-decoration-color: #00af00\">1,024</span> (4.00 KB)\n",
       "</pre>\n"
      ],
      "text/plain": [
       "\u001b[1m Non-trainable params: \u001b[0m\u001b[38;5;34m1,024\u001b[0m (4.00 KB)\n"
      ]
     },
     "metadata": {},
     "output_type": "display_data"
    }
   ],
   "source": [
    "# Let's take a look to see how many layers are in the base model\n",
    "print(\"Number of layers in the base model: \", len(base_model.layers))\n",
    "\n",
    "for layer in base_model.layers:\n",
    "    layer.trainable = True\n",
    "\n",
    "\n",
    "base_model.trainable = True\n",
    "model.compile(loss='sparse_categorical_crossentropy',\n",
    "              optimizer=tf.keras.optimizers.Adam(learning_rate=1e-4),\n",
    "              metrics=['accuracy'])\n",
    "\n",
    "model.summary()"
   ]
  },
  {
   "cell_type": "markdown",
   "id": "94689fa4-f10d-4a26-a273-2765d21fb524",
   "metadata": {},
   "source": [
    "### Training the Model\n",
    "\n",
    "**Explanation:**\n",
    "\n",
    "- `total_epochs` specifies the number of epochs to continue training the model.\n",
    "- The training start time is recorded to measure how long the training process takes.\n",
    "- The model training resumes from the last completed epoch (`initial_epoch=history.epoch[-1]`) to avoid restarting from scratch.\n",
    "- Training is performed on the training dataset (`train_ds`) with validation on the validation dataset (`valid_ds`).\n",
    "- Callbacks are used to save the best model during training and log training progress.\n",
    "- After training completes, the total duration is calculated and printed in seconds, minutes, and hours.\n",
    "- A final message confirms that the training has finished.\n"
   ]
  },
  {
   "cell_type": "code",
   "execution_count": null,
   "id": "d49e24c8-0e9c-49d0-874b-dc564f24ff17",
   "metadata": {},
   "outputs": [
    {
     "name": "stdout",
     "output_type": "stream",
     "text": [
      "Epoch 80/180\n"
     ]
    },
    {
     "name": "stderr",
     "output_type": "stream",
     "text": [
      "2025-07-23 10:27:22.652286: W external/local_xla/xla/tsl/framework/bfc_allocator.cc:310] Allocator (GPU_0_bfc) ran out of memory trying to allocate 1.11GiB with freed_by_count=0. The caller indicates that this is not a failure, but this may mean that there could be performance gains if more memory were available.\n",
      "2025-07-23 10:27:24.861880: W external/local_xla/xla/tsl/framework/bfc_allocator.cc:310] Allocator (GPU_0_bfc) ran out of memory trying to allocate 898.56MiB with freed_by_count=0. The caller indicates that this is not a failure, but this may mean that there could be performance gains if more memory were available.\n"
     ]
    },
    {
     "name": "stdout",
     "output_type": "stream",
     "text": [
      "\u001b[1m814/815\u001b[0m \u001b[32m━━━━━━━━━━━━━━━━━━━\u001b[0m\u001b[37m━\u001b[0m \u001b[1m0s\u001b[0m 232ms/step - accuracy: 0.3510 - loss: 1.5551"
     ]
    },
    {
     "name": "stderr",
     "output_type": "stream",
     "text": [
      "2025-07-23 10:30:34.648754: W external/local_xla/xla/tsl/framework/bfc_allocator.cc:310] Allocator (GPU_0_bfc) ran out of memory trying to allocate 1.10GiB with freed_by_count=0. The caller indicates that this is not a failure, but this may mean that there could be performance gains if more memory were available.\n"
     ]
    },
    {
     "name": "stdout",
     "output_type": "stream",
     "text": [
      "\u001b[1m815/815\u001b[0m \u001b[32m━━━━━━━━━━━━━━━━━━━━\u001b[0m\u001b[37m\u001b[0m \u001b[1m0s\u001b[0m 235ms/step - accuracy: 0.3510 - loss: 1.5551\n",
      "Epoch 80: val_accuracy did not improve from 0.91749\n",
      "\u001b[1m815/815\u001b[0m \u001b[32m━━━━━━━━━━━━━━━━━━━━\u001b[0m\u001b[37m\u001b[0m \u001b[1m214s\u001b[0m 252ms/step - accuracy: 0.3510 - loss: 1.5551 - val_accuracy: 0.2819 - val_loss: 1.5817\n",
      "Epoch 81/180\n",
      "\u001b[1m 89/815\u001b[0m \u001b[32m━━\u001b[0m\u001b[37m━━━━━━━━━━━━━━━━━━\u001b[0m \u001b[1m2:48\u001b[0m 232ms/step - accuracy: 0.4307 - loss: 1.3787"
     ]
    }
   ],
   "source": [
    "total_epochs = 180\n",
    "\n",
    "start_time = time.time()\n",
    "\n",
    "# Fine-tune the model on the training set\n",
    "history_fine = model.fit(train_ds,\n",
    "                         epochs=total_epochs,\n",
    "                         initial_epoch=history.epoch[-1],\n",
    "                         validation_data=valid_ds,\n",
    "                         callbacks=(callbacks_list+[csv_logger]))\n",
    "\n",
    "end_time = time.time()\n",
    "\n",
    "duration = end_time - start_time\n",
    "\n",
    "hours, rem = divmod(duration, 3600)\n",
    "minutes, seconds = divmod(rem, 60)\n",
    "print(f\"Training complete in {duration:.2f} seconds ({int(hours)}h {int(minutes)}m {seconds:.2f}s).\")\n",
    "\n",
    "print(\"Training complete.\")"
   ]
  },
  {
   "cell_type": "markdown",
   "id": "97060bac-246d-402e-94d1-ca8f6b25d93a",
   "metadata": {},
   "source": [
    "### Training and Validation Metrics Visualization\n",
    "\n",
    "This code cell plots the training and validation accuracy and loss over the epochs to help visualize model performance and convergence.\n"
   ]
  },
  {
   "cell_type": "code",
   "execution_count": null,
   "id": "299c122a-0aa4-4189-b11e-16e0ad089fdb",
   "metadata": {},
   "outputs": [],
   "source": [
    "acc = history_fine.history['accuracy']\n",
    "val_acc = history_fine.history['val_accuracy']\n",
    "\n",
    "loss = history_fine.history['loss']\n",
    "val_loss = history_fine.history['val_loss']\n",
    "\n",
    "plt.figure(figsize=(10, 10))\n",
    "plt.subplot(2, 1, 1)\n",
    "plt.plot(acc, label='Training Accuracy')\n",
    "plt.plot(val_acc, label='Validation Accuracy')\n",
    "plt.legend(loc='lower right')\n",
    "plt.ylabel('Accuracy')\n",
    "plt.ylim([min(plt.ylim()),1])\n",
    "plt.title('Training and Validation Accuracy')\n",
    "\n",
    "plt.subplot(2, 1, 2)\n",
    "plt.plot(loss, label='Training Loss')\n",
    "plt.plot(val_loss, label='Validation Loss')\n",
    "plt.legend(loc='upper right')\n",
    "plt.ylabel('Cross Entropy')\n",
    "plt.ylim([0,1.0])\n",
    "plt.title('Training and Validation Loss')\n",
    "plt.xlabel('epoch')\n",
    "plt.show()"
   ]
  },
  {
   "cell_type": "markdown",
   "id": "33116415-23a6-468a-af61-505b485da5d7",
   "metadata": {},
   "source": [
    "### Evaluate the Model on the Test Set\n",
    "\n",
    "**Explanation:**\n",
    "\n",
    "- The `model.evaluate()` method is used to assess the model’s performance on the test dataset.\n",
    "- It returns the loss value and accuracy metric calculated on the evaluation data.\n",
    "- These metrics help gauge how well the model generalizes to unseen data.\n",
    "- The results are printed to provide a clear summary of validation loss and accuracy.\n"
   ]
  },
  {
   "cell_type": "code",
   "execution_count": null,
   "id": "25af96f3-92b1-40fa-82eb-5b2b4890795e",
   "metadata": {},
   "outputs": [],
   "source": [
    "# Evaluate the model on the validation set\n",
    "val_loss, val_acc = model.evaluate(test_ds)\n",
    "print('Validation loss: {}, Validation accuracy: {}'.format(val_loss, val_acc))"
   ]
  },
  {
   "cell_type": "markdown",
   "id": "492a8569-73d0-4582-8df2-502534aaac73",
   "metadata": {},
   "source": [
    "### Visualizing Predictions on the Validation Set\n",
    "\n",
    "**Explanation:**\n",
    "\n",
    "- A single batch of images and their corresponding labels is extracted from the test dataset using `as_numpy_iterator().next()`.\n",
    "- The model generates predictions for this batch using `predict_on_batch()`.\n",
    "- A figure is created to display 8 images from the batch in a 4x2 grid.\n",
    "- For each image:\n",
    "  - It is displayed using `plt.imshow()`.\n",
    "  - The actual label is obtained from `label_batch`.\n",
    "  - The predicted label is determined by selecting the class with the highest probability from the model’s output."
   ]
  },
  {
   "cell_type": "code",
   "execution_count": null,
   "id": "2604e7ec-6f5a-44a5-a129-3c37c0816f90",
   "metadata": {},
   "outputs": [],
   "source": [
    "image_batch, label_batch = test_ds.as_numpy_iterator().next()\n",
    "predictions = model.predict_on_batch(image_batch)\n",
    "\n",
    "plt.figure(figsize=(10, 16))  # Taller for more vertical space\n",
    "for i in range(8):\n",
    "    ax = plt.subplot(4, 2, i + 1)  # 4 rows, 2 columns\n",
    "    plt.imshow(image_batch[i].astype(\"uint8\"))\n",
    "    actual_label = class_names[label_batch[i]]\n",
    "    predicted_label = class_names[np.argmax(predictions[i])]\n",
    "    plt.title(f\"Actual: {actual_label}\\nPredicted: {predicted_label}\", fontsize=10)\n",
    "    plt.axis(\"off\")\n",
    "\n",
    "# Adjust space between subplots\n",
    "plt.subplots_adjust(wspace=0.3, hspace=0.6)\n",
    "\n",
    "plt.show()\n"
   ]
  },
  {
   "cell_type": "markdown",
   "id": "a7091fea-31b7-4e01-92ca-679e338ff4ad",
   "metadata": {},
   "source": [
    "### Saving the Trained Model\n",
    "\n",
    "**Explanation:**\n",
    "\n",
    "- The `model.save()` function saves the entire trained model to a file named `waste_classification_model_VGG19.keras`.\n",
    "- This includes:\n",
    "  - The model architecture,\n",
    "  - The learned weights,\n",
    "  - The training configuration (loss function, optimizer, and metrics),\n",
    "  - And the optimizer state, which is useful if you want to resume training later."
   ]
  },
  {
   "cell_type": "code",
   "execution_count": null,
   "id": "2bd9e110-37fb-4ef5-96e4-68ab701c50d7",
   "metadata": {},
   "outputs": [],
   "source": [
    "model.save('waste_classification_model_VGG19.keras')"
   ]
  },
  {
   "cell_type": "markdown",
   "id": "1aa5f02f-5aa7-4579-b81d-013ec7c38778",
   "metadata": {},
   "source": [
    "### Confusion Matrix for Model Evaluation\n",
    "\n",
    "**Explanation:**\n",
    "\n",
    "- The `matplotlib.pyplot` and `sklearn.metrics` libraries are imported to help visualize the model's classification performance using a confusion matrix.\n",
    "- `y_true` and `y_pred` lists are initialized to store the true and predicted labels, respectively.\n",
    "- The test dataset is unbatched and then rebatched into smaller batches of 8 images for prediction efficiency.\n",
    "- For each batch:\n",
    "  - The model predicts class probabilities.\n",
    "  - The predicted class is determined by taking the `argmax` of the prediction (i.e., the class with the highest probability).\n",
    "  - The predicted and true labels are added to their respective lists.\n",
    "- The `confusion_matrix()` function generates a matrix showing the number of correct and incorrect predictions per class.\n",
    "- `ConfusionMatrixDisplay` is used to visualize this matrix with class labels (`class_names`) on both axes."
   ]
  },
  {
   "cell_type": "code",
   "execution_count": null,
   "id": "e48c30aa",
   "metadata": {},
   "outputs": [],
   "source": [
    "\n",
    "import matplotlib.pyplot as plt\n",
    "from sklearn.metrics import confusion_matrix, ConfusionMatrixDisplay\n",
    "\n",
    "# Get predictions and true labels\n",
    "y_true = []\n",
    "y_pred = []\n",
    "#class_names = test_ds.class_names if hasattr(test_ds, 'class_names') else ['class_0', 'class_1', 'class_2', 'class_3']\n",
    "\n",
    "for images, labels in test_ds.unbatch().batch(8):\n",
    "    preds = model.predict(images, verbose=0)\n",
    "    y_pred.extend(np.argmax(preds, axis=1))\n",
    "    y_true.extend(labels.numpy())\n",
    "\n",
    "# Confusion Matrix\n",
    "cm = confusion_matrix(y_true, y_pred)\n",
    "disp = ConfusionMatrixDisplay(confusion_matrix=cm, display_labels=class_names)\n",
    "disp.plot(cmap=plt.cm.Blues)\n",
    "plt.title(\"Confusion Matrix VGG19\")\n",
    "plt.show()\n"
   ]
  }
 ],
 "metadata": {
  "kernelspec": {
   "display_name": "Python 3 (ipykernel)",
   "language": "python",
   "name": "python3"
  },
  "language_info": {
   "codemirror_mode": {
    "name": "ipython",
    "version": 3
   },
   "file_extension": ".py",
   "mimetype": "text/x-python",
   "name": "python",
   "nbconvert_exporter": "python",
   "pygments_lexer": "ipython3",
   "version": "3.9.23"
  }
 },
 "nbformat": 4,
 "nbformat_minor": 5
}
